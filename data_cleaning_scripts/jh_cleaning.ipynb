{
 "nbformat": 4,
 "nbformat_minor": 2,
 "metadata": {
  "language_info": {
   "name": "python",
   "codemirror_mode": {
    "name": "ipython",
    "version": 3
   },
   "version": "3.7.4-final"
  },
  "orig_nbformat": 2,
  "file_extension": ".py",
  "mimetype": "text/x-python",
  "name": "python",
  "npconvert_exporter": "python",
  "pygments_lexer": "ipython3",
  "version": 3,
  "kernelspec": {
   "name": "python37464bitbaseconda6b55c75a92594a4496380a81f2f453fd",
   "display_name": "Python 3.7.4 64-bit ('base': conda)"
  }
 },
 "cells": [
  {
   "cell_type": "code",
   "execution_count": 1,
   "metadata": {},
   "outputs": [],
   "source": [
    "# Cleaning Raw Data from Johns Hopkins\n",
    "# By Chris Chiang\n",
    "import pandas as pd\n",
    "import datetime as dt\n",
    "import numpy as np\n",
    ""
   ]
  },
  {
   "cell_type": "code",
   "execution_count": 10,
   "metadata": {},
   "outputs": [],
   "source": [
    "data_loc = '../raw_data/Johns_Hopkins_day_by_day/'\n",
    "# Setting up dates\n",
    "start_date = dt.date(2020,1,22)\n",
    "last_date = dt.date(2020,3,27)\n",
    "# data format changed for the last 6 days of data so need to change\n",
    "days = (last_date - start_date).days"
   ]
  },
  {
   "cell_type": "code",
   "execution_count": 15,
   "metadata": {
    "tags": [
     "outputPrepend"
    ]
   },
   "outputs": [
    {
     "output_type": "stream",
     "name": "stdout",
     "text": "China data not found on 2020-01-22\nKorea, South data not found on 2020-01-22\nRepublic of Korea data not found on 2020-01-22\nChina data not found on 2020-01-23\nKorea, South data not found on 2020-01-23\nRepublic of Korea data not found on 2020-01-23\nChina data not found on 2020-01-24\nKorea, South data not found on 2020-01-24\nRepublic of Korea data not found on 2020-01-24\nChina data not found on 2020-01-25\nKorea, South data not found on 2020-01-25\nRepublic of Korea data not found on 2020-01-25\nChina data not found on 2020-01-26\nKorea, South data not found on 2020-01-26\nRepublic of Korea data not found on 2020-01-26\nChina data not found on 2020-01-27\nKorea, South data not found on 2020-01-27\nRepublic of Korea data not found on 2020-01-27\nChina data not found on 2020-01-28\nKorea, South data not found on 2020-01-28\nRepublic of Korea data not found on 2020-01-28\nChina data not found on 2020-01-29\nKorea, South data not found on 2020-01-29\nRepublic of Korea data not found on 2020-01-29\nChina data not found on 2020-01-30\nKorea, South data not found on 2020-01-30\nRepublic of Korea data not found on 2020-01-30\nChina data not found on 2020-01-31\nKorea, South data not found on 2020-01-31\nRepublic of Korea data not found on 2020-01-31\nChina data not found on 2020-02-01\nKorea, South data not found on 2020-02-01\nRepublic of Korea data not found on 2020-02-01\nChina data not found on 2020-02-02\nKorea, South data not found on 2020-02-02\nRepublic of Korea data not found on 2020-02-02\nChina data not found on 2020-02-03\nKorea, South data not found on 2020-02-03\nRepublic of Korea data not found on 2020-02-03\nChina data not found on 2020-02-04\nKorea, South data not found on 2020-02-04\nRepublic of Korea data not found on 2020-02-04\nChina data not found on 2020-02-05\nKorea, South data not found on 2020-02-05\nRepublic of Korea data not found on 2020-02-05\nChina data not found on 2020-02-06\nKorea, South data not found on 2020-02-06\nRepublic of Korea data not found on 2020-02-06\nChina data not found on 2020-02-07\nKorea, South data not found on 2020-02-07\nRepublic of Korea data not found on 2020-02-07\nChina data not found on 2020-02-08\nKorea, South data not found on 2020-02-08\nRepublic of Korea data not found on 2020-02-08\nChina data not found on 2020-02-09\nKorea, South data not found on 2020-02-09\nRepublic of Korea data not found on 2020-02-09\nChina data not found on 2020-02-10\nKorea, South data not found on 2020-02-10\nRepublic of Korea data not found on 2020-02-10\nChina data not found on 2020-02-11\nKorea, South data not found on 2020-02-11\nRepublic of Korea data not found on 2020-02-11\nChina data not found on 2020-02-12\nKorea, South data not found on 2020-02-12\nRepublic of Korea data not found on 2020-02-12\nChina data not found on 2020-02-13\nKorea, South data not found on 2020-02-13\nRepublic of Korea data not found on 2020-02-13\nChina data not found on 2020-02-14\nKorea, South data not found on 2020-02-14\nRepublic of Korea data not found on 2020-02-14\nChina data not found on 2020-02-15\nKorea, South data not found on 2020-02-15\nRepublic of Korea data not found on 2020-02-15\nChina data not found on 2020-02-16\nKorea, South data not found on 2020-02-16\nRepublic of Korea data not found on 2020-02-16\nChina data not found on 2020-02-17\nKorea, South data not found on 2020-02-17\nRepublic of Korea data not found on 2020-02-17\nChina data not found on 2020-02-18\nKorea, South data not found on 2020-02-18\nRepublic of Korea data not found on 2020-02-18\nChina data not found on 2020-02-19\nKorea, South data not found on 2020-02-19\nRepublic of Korea data not found on 2020-02-19\nChina data not found on 2020-02-20\nKorea, South data not found on 2020-02-20\nRepublic of Korea data not found on 2020-02-20\nChina data not found on 2020-02-21\nKorea, South data not found on 2020-02-21\nRepublic of Korea data not found on 2020-02-21\nChina data not found on 2020-02-22\nKorea, South data not found on 2020-02-22\nRepublic of Korea data not found on 2020-02-22\nChina data not found on 2020-02-23\nKorea, South data not found on 2020-02-23\nRepublic of Korea data not found on 2020-02-23\nChina data not found on 2020-02-24\nKorea, South data not found on 2020-02-24\nRepublic of Korea data not found on 2020-02-24\nChina data not found on 2020-02-25\nKorea, South data not found on 2020-02-25\nRepublic of Korea data not found on 2020-02-25\nChina data not found on 2020-02-26\nKorea, South data not found on 2020-02-26\nRepublic of Korea data not found on 2020-02-26\nChina data not found on 2020-02-27\nKorea, South data not found on 2020-02-27\nRepublic of Korea data not found on 2020-02-27\nChina data not found on 2020-02-28\nKorea, South data not found on 2020-02-28\nRepublic of Korea data not found on 2020-02-28\nChina data not found on 2020-02-29\nKorea, South data not found on 2020-02-29\nRepublic of Korea data not found on 2020-02-29\nChina data not found on 2020-03-01\nKorea, South data not found on 2020-03-01\nRepublic of Korea data not found on 2020-03-01\nChina data not found on 2020-03-02\nKorea, South data not found on 2020-03-02\nRepublic of Korea data not found on 2020-03-02\nChina data not found on 2020-03-03\nKorea, South data not found on 2020-03-03\nRepublic of Korea data not found on 2020-03-03\nChina data not found on 2020-03-04\nKorea, South data not found on 2020-03-04\nRepublic of Korea data not found on 2020-03-04\nChina data not found on 2020-03-05\nKorea, South data not found on 2020-03-05\nRepublic of Korea data not found on 2020-03-05\nChina data not found on 2020-03-06\nKorea, South data not found on 2020-03-06\nRepublic of Korea data not found on 2020-03-06\nChina data not found on 2020-03-07\nKorea, South data not found on 2020-03-07\nRepublic of Korea data not found on 2020-03-07\nChina data not found on 2020-03-08\nKorea, South data not found on 2020-03-08\nRepublic of Korea data not found on 2020-03-08\nChina data not found on 2020-03-09\nKorea, South data not found on 2020-03-09\nRepublic of Korea data not found on 2020-03-09\nSouth Korea data not found on 2020-03-10\nChina data not found on 2020-03-10\nKorea, South data not found on 2020-03-10\nSouth Korea data not found on 2020-03-11\nRepublic of Korea data not found on 2020-03-11\nSouth Korea data not found on 2020-03-12\nRepublic of Korea data not found on 2020-03-12\nMainland China data not found on 2020-03-13\nSouth Korea data not found on 2020-03-13\nRepublic of Korea data not found on 2020-03-13\nMainland China data not found on 2020-03-14\nSouth Korea data not found on 2020-03-14\nRepublic of Korea data not found on 2020-03-14\nMainland China data not found on 2020-03-15\nSouth Korea data not found on 2020-03-15\nRepublic of Korea data not found on 2020-03-15\nMainland China data not found on 2020-03-16\nSouth Korea data not found on 2020-03-16\nRepublic of Korea data not found on 2020-03-16\nMainland China data not found on 2020-03-17\nSouth Korea data not found on 2020-03-17\nRepublic of Korea data not found on 2020-03-17\nMainland China data not found on 2020-03-18\nSouth Korea data not found on 2020-03-18\nRepublic of Korea data not found on 2020-03-18\nMainland China data not found on 2020-03-19\nSouth Korea data not found on 2020-03-19\nRepublic of Korea data not found on 2020-03-19\nMainland China data not found on 2020-03-20\nSouth Korea data not found on 2020-03-20\nRepublic of Korea data not found on 2020-03-20\nMainland China data not found on 2020-03-21\nSouth Korea data not found on 2020-03-21\nRepublic of Korea data not found on 2020-03-21\nMainland China data not found on 2020-03-22\nSouth Korea data not found on 2020-03-22\nRepublic of Korea data not found on 2020-03-22\nMainland China data not found on 2020-03-23\nSouth Korea data not found on 2020-03-23\nRepublic of Korea data not found on 2020-03-23\nMainland China data not found on 2020-03-24\nSouth Korea data not found on 2020-03-24\nRepublic of Korea data not found on 2020-03-24\nMainland China data not found on 2020-03-25\nSouth Korea data not found on 2020-03-25\nRepublic of Korea data not found on 2020-03-25\nMainland China data not found on 2020-03-26\nSouth Korea data not found on 2020-03-26\nRepublic of Korea data not found on 2020-03-26\nMainland China data not found on 2020-03-27\nSouth Korea data not found on 2020-03-27\nRepublic of Korea data not found on 2020-03-27\n"
    },
    {
     "output_type": "execute_result",
     "data": {
      "text/plain": "           date  Country/Region  Confirmed   Deaths\n331  2020-03-27           Total   279384.0  14150.0\n330  2020-03-27     South Korea     9332.0    139.0\n329  2020-03-27  Mainland China    81897.0   3296.0\n328  2020-03-27           Italy    86498.0   9134.0\n327  2020-03-27              US   101657.0   1581.0\n..          ...             ...        ...      ...\n4    2020-01-22           Total      549.0     17.0\n3    2020-01-22           Italy        0.0      0.0\n2    2020-01-22     South Korea        1.0      0.0\n1    2020-01-22  Mainland China      547.0     17.0\n0    2020-01-22              US        1.0      0.0\n\n[332 rows x 4 columns]",
      "text/html": "<div>\n<style scoped>\n    .dataframe tbody tr th:only-of-type {\n        vertical-align: middle;\n    }\n\n    .dataframe tbody tr th {\n        vertical-align: top;\n    }\n\n    .dataframe thead th {\n        text-align: right;\n    }\n</style>\n<table border=\"1\" class=\"dataframe\">\n  <thead>\n    <tr style=\"text-align: right;\">\n      <th></th>\n      <th>date</th>\n      <th>Country/Region</th>\n      <th>Confirmed</th>\n      <th>Deaths</th>\n    </tr>\n  </thead>\n  <tbody>\n    <tr>\n      <td>331</td>\n      <td>2020-03-27</td>\n      <td>Total</td>\n      <td>279384.0</td>\n      <td>14150.0</td>\n    </tr>\n    <tr>\n      <td>330</td>\n      <td>2020-03-27</td>\n      <td>South Korea</td>\n      <td>9332.0</td>\n      <td>139.0</td>\n    </tr>\n    <tr>\n      <td>329</td>\n      <td>2020-03-27</td>\n      <td>Mainland China</td>\n      <td>81897.0</td>\n      <td>3296.0</td>\n    </tr>\n    <tr>\n      <td>328</td>\n      <td>2020-03-27</td>\n      <td>Italy</td>\n      <td>86498.0</td>\n      <td>9134.0</td>\n    </tr>\n    <tr>\n      <td>327</td>\n      <td>2020-03-27</td>\n      <td>US</td>\n      <td>101657.0</td>\n      <td>1581.0</td>\n    </tr>\n    <tr>\n      <td>...</td>\n      <td>...</td>\n      <td>...</td>\n      <td>...</td>\n      <td>...</td>\n    </tr>\n    <tr>\n      <td>4</td>\n      <td>2020-01-22</td>\n      <td>Total</td>\n      <td>549.0</td>\n      <td>17.0</td>\n    </tr>\n    <tr>\n      <td>3</td>\n      <td>2020-01-22</td>\n      <td>Italy</td>\n      <td>0.0</td>\n      <td>0.0</td>\n    </tr>\n    <tr>\n      <td>2</td>\n      <td>2020-01-22</td>\n      <td>South Korea</td>\n      <td>1.0</td>\n      <td>0.0</td>\n    </tr>\n    <tr>\n      <td>1</td>\n      <td>2020-01-22</td>\n      <td>Mainland China</td>\n      <td>547.0</td>\n      <td>17.0</td>\n    </tr>\n    <tr>\n      <td>0</td>\n      <td>2020-01-22</td>\n      <td>US</td>\n      <td>1.0</td>\n      <td>0.0</td>\n    </tr>\n  </tbody>\n</table>\n<p>332 rows × 4 columns</p>\n</div>"
     },
     "metadata": {},
     "execution_count": 15
    }
   ],
   "source": [
    "# forloop init\n",
    "current_date = start_date\n",
    "combine_df = pd.DataFrame()\n",
    "i=0\n",
    "\n",
    "for _ in range(int(days)+1):\n",
    "    # convert date into string and load in csv\n",
    "    load_string = current_date.strftime(\"%m-%d-%Y\")\n",
    "    try:\n",
    "        today_df = pd.read_csv(data_loc + load_string +'.csv').groupby('Country/Region')\n",
    "    except:\n",
    "        # deal with data column format change\n",
    "        today_df = pd.read_csv(data_loc + load_string +'.csv').groupby('Country_Region')\n",
    "    # total count init\n",
    "    day_deaths_tot=0\n",
    "    day_confirmed_tot=0\n",
    "    # Loop through intrested countries\n",
    "    for needed in ['US','Mainland China', 'South Korea', 'Italy','China','Korea, South','Republic of Korea']:\n",
    "        try:\n",
    "            needed_df = today_df.get_group(needed)\n",
    "            day_deaths_tot += needed_df['Deaths'].sum()\n",
    "            day_confirmed_tot += needed_df['Confirmed'].sum()\n",
    "            # write rows base on country\n",
    "            # handle south korea format\n",
    "            if needed in ['South Korea', 'Korea, South','Republic of Korea']:\n",
    "                row = pd.DataFrame({'date':current_date,'Country/Region':'South Korea','Confirmed':needed_df['Confirmed'].sum(),'Deaths':needed_df['Deaths'].sum()},index=[i])\n",
    "            # handle different China format\n",
    "            elif needed in ['China', 'Mainland China']:\n",
    "                row = pd.DataFrame({'date':current_date,'Country/Region':'Mainland China','Confirmed':needed_df['Confirmed'].sum(),'Deaths':needed_df['Deaths'].sum()},index=[i])\n",
    "            else:\n",
    "                row = pd.DataFrame({'date':current_date,'Country/Region':needed,'Confirmed':needed_df['Confirmed'].sum(),'Deaths':needed_df['Deaths'].sum()},index=[i])\n",
    "            # add row into full df\n",
    "            combine_df = pd.concat([row, combine_df])\n",
    "            i += 1\n",
    "        except KeyError:\n",
    "            # catch missing data\n",
    "            # No Italy Data for a few days so store 0\n",
    "            if needed =='Italy':\n",
    "                row = pd.DataFrame({'date':current_date,'Country/Region':needed,'Confirmed':0,'Deaths':0},index=[i])\n",
    "                combine_df = pd.concat([row, combine_df])\n",
    "                i += 1\n",
    "            else:\n",
    "                print(f'{needed} data not found on {current_date}')\n",
    "        # add total row\n",
    "    row = pd.DataFrame({'date':current_date,'Country/Region':'Total','Confirmed':day_confirmed_tot,'Deaths':day_deaths_tot},index=[i])\n",
    "    combine_df = pd.concat([row, combine_df])\n",
    "    i += 1\n",
    "    # increment date\n",
    "    current_date = current_date + dt.timedelta(days=1)\n",
    "combine_df"
   ]
  },
  {
   "cell_type": "code",
   "execution_count": 17,
   "metadata": {},
   "outputs": [],
   "source": [
    "combine_df.to_csv('../cleaned_data/cases.csv')"
   ]
  },
  {
   "cell_type": "code",
   "execution_count": 16,
   "metadata": {},
   "outputs": [
    {
     "output_type": "stream",
     "name": "stdout",
     "text": "2020-01-22 no Italy\n2020-01-23 no Italy\n2020-01-24 no Italy\n2020-01-25 no Italy\n2020-01-26 no Italy\n2020-01-27 no Italy\n2020-01-28 no Italy\n2020-01-29 no Italy\n2020-01-30 no Italy\n"
    }
   ],
   "source": [
    "# just some testing script below\n",
    "\n",
    "# testing different country names\n",
    "start_date = dt.date(2020,1,22)\n",
    "current_date = start_date\n",
    "for _ in range(66):\n",
    "    today_df=combine_df.groupby('date').get_group(current_date)\n",
    "    day_sum=0\n",
    "    for korea in ['South Korea']:\n",
    "        day_sum+=today_df.groupby('Country/Region').get_group(korea)['Confirmed'].sum()\n",
    "    if day_sum == 0:\n",
    "        print(f'{current_date} no korea')\n",
    "    day_sum=0    \n",
    "    for korea in ['Italy']:\n",
    "        day_sum+=today_df.groupby('Country/Region').get_group(korea)['Confirmed'].sum()\n",
    "    if day_sum == 0:\n",
    "        print(f'{current_date} no Italy')\n",
    "    day_sum=0    \n",
    "    for korea in ['US']:\n",
    "        day_sum+=today_df.groupby('Country/Region').get_group(korea)['Confirmed'].sum()\n",
    "    if day_sum == 0:\n",
    "        print(f'{current_date} no US')\n",
    "    day_sum=0    \n",
    "    for korea in ['Mainland China']:\n",
    "        day_sum+=today_df.groupby('Country/Region').get_group(korea)['Confirmed'].sum()\n",
    "    if day_sum == 0:\n",
    "        print(f'{current_date} no China')\n",
    "    \n",
    "    current_date = current_date + dt.timedelta(days=1)\n",
    "    "
   ]
  },
  {
   "cell_type": "code",
   "execution_count": 109,
   "metadata": {},
   "outputs": [
    {
     "output_type": "execute_result",
     "data": {
      "text/plain": "7513.0"
     },
     "metadata": {},
     "execution_count": 109
    }
   ],
   "source": [
    "combine_df.groupby('date').get_group(dt.date(2020,3,10))\n",
    "combine_df.groupby('Country/Region').get_group('Republic of Korea')['Confirmed'].sum()\n",
    ""
   ]
  },
  {
   "cell_type": "code",
   "execution_count": 79,
   "metadata": {},
   "outputs": [
    {
     "output_type": "execute_result",
     "data": {
      "text/plain": "datetime.date(2020, 3, 23)"
     },
     "metadata": {},
     "execution_count": 79
    }
   ],
   "source": [
    "next_day = start_date + dt.timedelta(days=1)\n",
    "next_day"
   ]
  },
  {
   "cell_type": "code",
   "execution_count": 31,
   "metadata": {},
   "outputs": [
    {
     "output_type": "error",
     "ename": "KeyError",
     "evalue": "'Italy'",
     "traceback": [
      "\u001b[1;31m---------------------------------------------------------------------------\u001b[0m",
      "\u001b[1;31mKeyError\u001b[0m                                  Traceback (most recent call last)",
      "\u001b[1;32m<ipython-input-31-29e352601a0d>\u001b[0m in \u001b[0;36m<module>\u001b[1;34m\u001b[0m\n\u001b[0;32m      1\u001b[0m \u001b[0mdf\u001b[0m\u001b[1;33m.\u001b[0m\u001b[0mgroupby\u001b[0m\u001b[1;33m(\u001b[0m\u001b[1;34m'Country/Region'\u001b[0m\u001b[1;33m)\u001b[0m\u001b[1;33m.\u001b[0m\u001b[0mget_group\u001b[0m\u001b[1;33m(\u001b[0m\u001b[1;34m'Mainland China'\u001b[0m\u001b[1;33m)\u001b[0m\u001b[1;33m[\u001b[0m\u001b[1;34m'Confirmed'\u001b[0m\u001b[1;33m]\u001b[0m\u001b[1;33m.\u001b[0m\u001b[0msum\u001b[0m\u001b[1;33m(\u001b[0m\u001b[1;33m)\u001b[0m\u001b[1;33m\u001b[0m\u001b[1;33m\u001b[0m\u001b[0m\n\u001b[1;32m----> 2\u001b[1;33m \u001b[0mdf\u001b[0m\u001b[1;33m.\u001b[0m\u001b[0mgroupby\u001b[0m\u001b[1;33m(\u001b[0m\u001b[1;34m'Country/Region'\u001b[0m\u001b[1;33m)\u001b[0m\u001b[1;33m.\u001b[0m\u001b[0mget_group\u001b[0m\u001b[1;33m(\u001b[0m\u001b[1;34m'Italy'\u001b[0m\u001b[1;33m)\u001b[0m\u001b[1;33m\u001b[0m\u001b[1;33m\u001b[0m\u001b[0m\n\u001b[0m\u001b[0;32m      3\u001b[0m \u001b[1;33m\u001b[0m\u001b[0m\n\u001b[0;32m      4\u001b[0m \u001b[1;31m# df['Confirmed'].sum()\u001b[0m\u001b[1;33m\u001b[0m\u001b[1;33m\u001b[0m\u001b[1;33m\u001b[0m\u001b[0m\n",
      "\u001b[1;32m~\\Anaconda3\\lib\\site-packages\\pandas\\core\\groupby\\groupby.py\u001b[0m in \u001b[0;36mget_group\u001b[1;34m(self, name, obj)\u001b[0m\n\u001b[0;32m    678\u001b[0m         \u001b[0minds\u001b[0m \u001b[1;33m=\u001b[0m \u001b[0mself\u001b[0m\u001b[1;33m.\u001b[0m\u001b[0m_get_index\u001b[0m\u001b[1;33m(\u001b[0m\u001b[0mname\u001b[0m\u001b[1;33m)\u001b[0m\u001b[1;33m\u001b[0m\u001b[1;33m\u001b[0m\u001b[0m\n\u001b[0;32m    679\u001b[0m         \u001b[1;32mif\u001b[0m \u001b[1;32mnot\u001b[0m \u001b[0mlen\u001b[0m\u001b[1;33m(\u001b[0m\u001b[0minds\u001b[0m\u001b[1;33m)\u001b[0m\u001b[1;33m:\u001b[0m\u001b[1;33m\u001b[0m\u001b[1;33m\u001b[0m\u001b[0m\n\u001b[1;32m--> 680\u001b[1;33m             \u001b[1;32mraise\u001b[0m \u001b[0mKeyError\u001b[0m\u001b[1;33m(\u001b[0m\u001b[0mname\u001b[0m\u001b[1;33m)\u001b[0m\u001b[1;33m\u001b[0m\u001b[1;33m\u001b[0m\u001b[0m\n\u001b[0m\u001b[0;32m    681\u001b[0m \u001b[1;33m\u001b[0m\u001b[0m\n\u001b[0;32m    682\u001b[0m         \u001b[1;32mreturn\u001b[0m \u001b[0mobj\u001b[0m\u001b[1;33m.\u001b[0m\u001b[0mtake\u001b[0m\u001b[1;33m(\u001b[0m\u001b[0minds\u001b[0m\u001b[1;33m,\u001b[0m \u001b[0maxis\u001b[0m\u001b[1;33m=\u001b[0m\u001b[0mself\u001b[0m\u001b[1;33m.\u001b[0m\u001b[0maxis\u001b[0m\u001b[1;33m)\u001b[0m\u001b[1;33m\u001b[0m\u001b[1;33m\u001b[0m\u001b[0m\n",
      "\u001b[1;31mKeyError\u001b[0m: 'Italy'"
     ]
    }
   ],
   "source": [
    "df.groupby('Country/Region').get_group('Mainland China')['Confirmed'].sum()\n",
    "df.groupby('Country/Region').get_group('Italy')\n",
    "\n",
    "# df['Confirmed'].sum()"
   ]
  },
  {
   "cell_type": "code",
   "execution_count": 20,
   "metadata": {},
   "outputs": [
    {
     "output_type": "execute_result",
     "data": {
      "text/plain": "Empty DataFrame\nColumns: [date, Country/Region, Confirmed, Deaths]\nIndex: []",
      "text/html": "<div>\n<style scoped>\n    .dataframe tbody tr th:only-of-type {\n        vertical-align: middle;\n    }\n\n    .dataframe tbody tr th {\n        vertical-align: top;\n    }\n\n    .dataframe thead th {\n        text-align: right;\n    }\n</style>\n<table border=\"1\" class=\"dataframe\">\n  <thead>\n    <tr style=\"text-align: right;\">\n      <th></th>\n      <th>date</th>\n      <th>Country/Region</th>\n      <th>Confirmed</th>\n      <th>Deaths</th>\n    </tr>\n  </thead>\n  <tbody>\n  </tbody>\n</table>\n</div>"
     },
     "metadata": {},
     "execution_count": 20
    }
   ],
   "source": [
    "combine_df = pd.DataFrame({'date':'','Country/Region':'','Confirmed':'','Deaths':''},index=[])\n",
    "combine_df.head()"
   ]
  },
  {
   "cell_type": "code",
   "execution_count": 47,
   "metadata": {},
   "outputs": [
    {
     "output_type": "stream",
     "name": "stdout",
     "text": "data not found\n"
    },
    {
     "output_type": "execute_result",
     "data": {
      "text/plain": "         date  Country/Region  Confirmed  Deaths\n0  2020-01-22           Italy        NaN     NaN\n1  2020-01-22     South Korea        1.0     0.0\n2  2020-01-22  Mainland China      547.0    17.0\n3  2020-01-22              US        1.0     0.0",
      "text/html": "<div>\n<style scoped>\n    .dataframe tbody tr th:only-of-type {\n        vertical-align: middle;\n    }\n\n    .dataframe tbody tr th {\n        vertical-align: top;\n    }\n\n    .dataframe thead th {\n        text-align: right;\n    }\n</style>\n<table border=\"1\" class=\"dataframe\">\n  <thead>\n    <tr style=\"text-align: right;\">\n      <th></th>\n      <th>date</th>\n      <th>Country/Region</th>\n      <th>Confirmed</th>\n      <th>Deaths</th>\n    </tr>\n  </thead>\n  <tbody>\n    <tr>\n      <td>0</td>\n      <td>2020-01-22</td>\n      <td>Italy</td>\n      <td>NaN</td>\n      <td>NaN</td>\n    </tr>\n    <tr>\n      <td>1</td>\n      <td>2020-01-22</td>\n      <td>South Korea</td>\n      <td>1.0</td>\n      <td>0.0</td>\n    </tr>\n    <tr>\n      <td>2</td>\n      <td>2020-01-22</td>\n      <td>Mainland China</td>\n      <td>547.0</td>\n      <td>17.0</td>\n    </tr>\n    <tr>\n      <td>3</td>\n      <td>2020-01-22</td>\n      <td>US</td>\n      <td>1.0</td>\n      <td>0.0</td>\n    </tr>\n  </tbody>\n</table>\n</div>"
     },
     "metadata": {},
     "execution_count": 47
    }
   ],
   "source": [
    "combine_df = pd.DataFrame()\n",
    "i=0\n",
    "for needed in ['US','Mainland China', 'South Korea', 'Italy']:\n",
    "    try:\n",
    "        needed_df = df.groupby('Country/Region').get_group(needed)\n",
    "        row = pd.DataFrame({'date':start_date,'Country/Region':needed,'Confirmed':needed_df['Confirmed'].sum(),'Deaths':needed_df['Deaths'].sum()},index=[i])\n",
    "        i += 1\n",
    "        combine_df\n",
    "        combine_df = pd.concat([row, combine_df], ignore_index=True)\n",
    "    except KeyError:\n",
    "        row = pd.DataFrame({'date':start_date,'Country/Region':needed,'Confirmed':np.NaN,'Deaths':np.NaN},index=[i])\n",
    "        i += 1\n",
    "        combine_df\n",
    "        combine_df = pd.concat([row, combine_df], ignore_index=True)\n",
    "        print('data not found')\n",
    "\n",
    "combine_df"
   ]
  },
  {
   "cell_type": "code",
   "execution_count": 30,
   "metadata": {},
   "outputs": [
    {
     "output_type": "execute_result",
     "data": {
      "text/plain": "Empty DataFrame\nColumns: []\nIndex: []",
      "text/html": "<div>\n<style scoped>\n    .dataframe tbody tr th:only-of-type {\n        vertical-align: middle;\n    }\n\n    .dataframe tbody tr th {\n        vertical-align: top;\n    }\n\n    .dataframe thead th {\n        text-align: right;\n    }\n</style>\n<table border=\"1\" class=\"dataframe\">\n  <thead>\n    <tr style=\"text-align: right;\">\n      <th></th>\n    </tr>\n  </thead>\n  <tbody>\n  </tbody>\n</table>\n</div>"
     },
     "metadata": {},
     "execution_count": 30
    }
   ],
   "source": [
    "combine_df = pd.DataFrame()\n",
    "combine_df.head()"
   ]
  },
  {
   "cell_type": "code",
   "execution_count": 44,
   "metadata": {},
   "outputs": [
    {
     "output_type": "execute_result",
     "data": {
      "text/plain": "         date  Country/Region  Confirmed  Deaths\n0  2020-01-22  Mainland China      547.0    17.0",
      "text/html": "<div>\n<style scoped>\n    .dataframe tbody tr th:only-of-type {\n        vertical-align: middle;\n    }\n\n    .dataframe tbody tr th {\n        vertical-align: top;\n    }\n\n    .dataframe thead th {\n        text-align: right;\n    }\n</style>\n<table border=\"1\" class=\"dataframe\">\n  <thead>\n    <tr style=\"text-align: right;\">\n      <th></th>\n      <th>date</th>\n      <th>Country/Region</th>\n      <th>Confirmed</th>\n      <th>Deaths</th>\n    </tr>\n  </thead>\n  <tbody>\n    <tr>\n      <td>0</td>\n      <td>2020-01-22</td>\n      <td>Mainland China</td>\n      <td>547.0</td>\n      <td>17.0</td>\n    </tr>\n  </tbody>\n</table>\n</div>"
     },
     "metadata": {},
     "execution_count": 44
    }
   ],
   "source": [
    "row = pd.DataFrame({'date':start_date,'Country/Region':'Mainland China','Confirmed':df.groupby('Country/Region').get_group('Mainland China')['Confirmed'].sum(),'Deaths':df.groupby('Country/Region').get_group('Mainland China')['Deaths'].sum()},index=[0])\n",
    "# df.groupby('Country/Region').get_group('Mainland China')['Confirmed'].sum()\n",
    "row.head()\n",
    ""
   ]
  },
  {
   "cell_type": "code",
   "execution_count": 38,
   "metadata": {},
   "outputs": [
    {
     "output_type": "execute_result",
     "data": {
      "text/plain": "datetime.date(2020, 1, 22)"
     },
     "metadata": {},
     "execution_count": 38
    }
   ],
   "source": [
    "start_date"
   ]
  },
  {
   "cell_type": "code",
   "execution_count": 39,
   "metadata": {},
   "outputs": [
    {
     "output_type": "execute_result",
     "data": {
      "text/plain": "547.0"
     },
     "metadata": {},
     "execution_count": 39
    }
   ],
   "source": [
    "df.groupby('Country/Region').get_group('Mainland China')['Confirmed'].sum()"
   ]
  },
  {
   "cell_type": "code",
   "execution_count": null,
   "metadata": {},
   "outputs": [],
   "source": []
  }
 ]
}