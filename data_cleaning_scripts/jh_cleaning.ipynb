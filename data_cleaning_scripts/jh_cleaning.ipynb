{
 "nbformat": 4,
 "nbformat_minor": 2,
 "metadata": {
  "language_info": {
   "name": "python",
   "codemirror_mode": {
    "name": "ipython",
    "version": 3
   },
   "version": "3.7.4-final"
  },
  "orig_nbformat": 2,
  "file_extension": ".py",
  "mimetype": "text/x-python",
  "name": "python",
  "npconvert_exporter": "python",
  "pygments_lexer": "ipython3",
  "version": 3,
  "kernelspec": {
   "name": "python37464bitbaseconda6b55c75a92594a4496380a81f2f453fd",
   "display_name": "Python 3.7.4 64-bit ('base': conda)"
  }
 },
 "cells": [
  {
   "cell_type": "code",
   "execution_count": 5,
   "metadata": {},
   "outputs": [],
   "source": [
    "# Cleaning Raw Data from Johns Hopkins\n",
    "# By Chris Chiang\n",
    "import pandas as pd\n",
    "import datetime as dt\n",
    "import numpy as np\n",
    ""
   ]
  },
  {
   "cell_type": "code",
   "execution_count": 76,
   "metadata": {},
   "outputs": [],
   "source": [
    "data_loc = '../raw_data/Johns_Hopkins_day_by_day/'\n",
    "# Setting up dates\n",
    "start_date = dt.date(2020,1,22)\n",
    "last_date = dt.date(2020,3,21)\n",
    "# data format changed for the last 6 days of data so need to change\n",
    "days = (last_date - start_date).days"
   ]
  },
  {
   "cell_type": "code",
   "execution_count": 77,
   "metadata": {
    "tags": [
     "outputPrepend"
    ]
   },
   "outputs": [
    {
     "output_type": "stream",
     "name": "stdout",
     "text": "Italy data not found\nChina data not found\nKorea, South data not found\nItaly data not found\nChina data not found\nKorea, South data not found\nItaly data not found\nChina data not found\nKorea, South data not found\nItaly data not found\nChina data not found\nKorea, South data not found\nItaly data not found\nChina data not found\nKorea, South data not found\nItaly data not found\nChina data not found\nKorea, South data not found\nItaly data not found\nChina data not found\nKorea, South data not found\nItaly data not found\nChina data not found\nKorea, South data not found\nItaly data not found\nChina data not found\nKorea, South data not found\nChina data not found\nKorea, South data not found\nChina data not found\nKorea, South data not found\nChina data not found\nKorea, South data not found\nChina data not found\nKorea, South data not found\nChina data not found\nKorea, South data not found\nChina data not found\nKorea, South data not found\nChina data not found\nKorea, South data not found\nChina data not found\nKorea, South data not found\nChina data not found\nKorea, South data not found\nChina data not found\nKorea, South data not found\nChina data not found\nKorea, South data not found\nChina data not found\nKorea, South data not found\nChina data not found\nKorea, South data not found\nChina data not found\nKorea, South data not found\nChina data not found\nKorea, South data not found\nChina data not found\nKorea, South data not found\nChina data not found\nKorea, South data not found\nChina data not found\nKorea, South data not found\nChina data not found\nKorea, South data not found\nChina data not found\nKorea, South data not found\nChina data not found\nKorea, South data not found\nChina data not found\nKorea, South data not found\nChina data not found\nKorea, South data not found\nChina data not found\nKorea, South data not found\nChina data not found\nKorea, South data not found\nChina data not found\nKorea, South data not found\nChina data not found\nKorea, South data not found\nChina data not found\nKorea, South data not found\nChina data not found\nKorea, South data not found\nChina data not found\nKorea, South data not found\nChina data not found\nKorea, South data not found\nChina data not found\nKorea, South data not found\nChina data not found\nKorea, South data not found\nChina data not found\nKorea, South data not found\nChina data not found\nKorea, South data not found\nChina data not found\nKorea, South data not found\nChina data not found\nKorea, South data not found\nChina data not found\nKorea, South data not found\nChina data not found\nKorea, South data not found\nSouth Korea data not found\nChina data not found\nKorea, South data not found\nSouth Korea data not found\nSouth Korea data not found\nMainland China data not found\nSouth Korea data not found\nMainland China data not found\nSouth Korea data not found\nMainland China data not found\nSouth Korea data not found\nMainland China data not found\nSouth Korea data not found\nMainland China data not found\nSouth Korea data not found\nMainland China data not found\nSouth Korea data not found\nMainland China data not found\nSouth Korea data not found\nMainland China data not found\nSouth Korea data not found\nMainland China data not found\nSouth Korea data not found\n"
    },
    {
     "output_type": "execute_result",
     "data": {
      "text/plain": "           date  Country/Region  Confirmed  Deaths\n419  2020-03-21           Total   169175.0  8493.0\n418  2020-03-21    Korea, South     8799.0   102.0\n417  2020-03-21           China    81305.0  3259.0\n416  2020-03-21           Italy    53578.0  4825.0\n415  2020-03-21     South Korea        0.0     0.0\n..          ...             ...        ...     ...\n4    2020-01-22           China        0.0     0.0\n3    2020-01-22           Italy        0.0     0.0\n2    2020-01-22     South Korea        1.0     0.0\n1    2020-01-22  Mainland China      547.0    17.0\n0    2020-01-22              US        1.0     0.0\n\n[420 rows x 4 columns]",
      "text/html": "<div>\n<style scoped>\n    .dataframe tbody tr th:only-of-type {\n        vertical-align: middle;\n    }\n\n    .dataframe tbody tr th {\n        vertical-align: top;\n    }\n\n    .dataframe thead th {\n        text-align: right;\n    }\n</style>\n<table border=\"1\" class=\"dataframe\">\n  <thead>\n    <tr style=\"text-align: right;\">\n      <th></th>\n      <th>date</th>\n      <th>Country/Region</th>\n      <th>Confirmed</th>\n      <th>Deaths</th>\n    </tr>\n  </thead>\n  <tbody>\n    <tr>\n      <td>419</td>\n      <td>2020-03-21</td>\n      <td>Total</td>\n      <td>169175.0</td>\n      <td>8493.0</td>\n    </tr>\n    <tr>\n      <td>418</td>\n      <td>2020-03-21</td>\n      <td>Korea, South</td>\n      <td>8799.0</td>\n      <td>102.0</td>\n    </tr>\n    <tr>\n      <td>417</td>\n      <td>2020-03-21</td>\n      <td>China</td>\n      <td>81305.0</td>\n      <td>3259.0</td>\n    </tr>\n    <tr>\n      <td>416</td>\n      <td>2020-03-21</td>\n      <td>Italy</td>\n      <td>53578.0</td>\n      <td>4825.0</td>\n    </tr>\n    <tr>\n      <td>415</td>\n      <td>2020-03-21</td>\n      <td>South Korea</td>\n      <td>0.0</td>\n      <td>0.0</td>\n    </tr>\n    <tr>\n      <td>...</td>\n      <td>...</td>\n      <td>...</td>\n      <td>...</td>\n      <td>...</td>\n    </tr>\n    <tr>\n      <td>4</td>\n      <td>2020-01-22</td>\n      <td>China</td>\n      <td>0.0</td>\n      <td>0.0</td>\n    </tr>\n    <tr>\n      <td>3</td>\n      <td>2020-01-22</td>\n      <td>Italy</td>\n      <td>0.0</td>\n      <td>0.0</td>\n    </tr>\n    <tr>\n      <td>2</td>\n      <td>2020-01-22</td>\n      <td>South Korea</td>\n      <td>1.0</td>\n      <td>0.0</td>\n    </tr>\n    <tr>\n      <td>1</td>\n      <td>2020-01-22</td>\n      <td>Mainland China</td>\n      <td>547.0</td>\n      <td>17.0</td>\n    </tr>\n    <tr>\n      <td>0</td>\n      <td>2020-01-22</td>\n      <td>US</td>\n      <td>1.0</td>\n      <td>0.0</td>\n    </tr>\n  </tbody>\n</table>\n<p>420 rows × 4 columns</p>\n</div>"
     },
     "metadata": {},
     "execution_count": 77
    }
   ],
   "source": [
    "# forloop init\n",
    "current_date = start_date\n",
    "combine_df = pd.DataFrame()\n",
    "i=0\n",
    "\n",
    "for _ in range(int(days)+1):\n",
    "    load_string = current_date.strftime(\"%m-%d-%Y\")\n",
    "    today_df = pd.read_csv(data_loc + load_string +'.csv')\n",
    "    day_deaths_tot=0\n",
    "    day_confirmed_tot=0\n",
    "    for needed in ['US','Mainland China', 'South Korea', 'Italy','China','Korea, South']:\n",
    "        try:\n",
    "            needed_df = today_df.groupby('Country/Region').get_group(needed)\n",
    "            day_deaths_tot += needed_df['Deaths'].sum()\n",
    "            day_confirmed_tot += needed_df['Confirmed'].sum()\n",
    "            row = pd.DataFrame({'date':current_date,'Country/Region':needed,'Confirmed':needed_df['Confirmed'].sum(),'Deaths':needed_df['Deaths'].sum()},index=[i])\n",
    "            combine_df = pd.concat([row, combine_df])\n",
    "            i += 1\n",
    "        except KeyError:\n",
    "            row = pd.DataFrame({'date':current_date,'Country/Region':needed,'Confirmed':0,'Deaths':0},index=[i])\n",
    "            combine_df = pd.concat([row, combine_df])\n",
    "            i += 1\n",
    "            print(f'{needed} data not found')\n",
    "        # add total row\n",
    "    row = pd.DataFrame({'date':current_date,'Country/Region':'Total','Confirmed':day_confirmed_tot,'Deaths':day_deaths_tot},index=[i])\n",
    "    combine_df = pd.concat([row, combine_df])\n",
    "    i += 1\n",
    "    # increment date\n",
    "    current_date = current_date + dt.timedelta(days=1)\n",
    "combine_df"
   ]
  },
  {
   "cell_type": "code",
   "execution_count": 78,
   "metadata": {},
   "outputs": [
    {
     "output_type": "stream",
     "name": "stdout",
     "text": "Mainland China data not found\nSouth Korea data not found\nMainland China data not found\nSouth Korea data not found\nMainland China data not found\nSouth Korea data not found\nMainland China data not found\nSouth Korea data not found\nMainland China data not found\nSouth Korea data not found\nMainland China data not found\nSouth Korea data not found\n"
    },
    {
     "output_type": "execute_result",
     "data": {
      "text/plain": "           date  Country/Region  Confirmed   Deaths\n461  2020-03-27           Total   279384.0  14150.0\n460  2020-03-27    Korea, South     9332.0    139.0\n459  2020-03-27           China    81897.0   3296.0\n458  2020-03-27           Italy    86498.0   9134.0\n457  2020-03-27     South Korea        0.0      0.0\n..          ...             ...        ...      ...\n4    2020-01-22           China        0.0      0.0\n3    2020-01-22           Italy        0.0      0.0\n2    2020-01-22     South Korea        1.0      0.0\n1    2020-01-22  Mainland China      547.0     17.0\n0    2020-01-22              US        1.0      0.0\n\n[462 rows x 4 columns]",
      "text/html": "<div>\n<style scoped>\n    .dataframe tbody tr th:only-of-type {\n        vertical-align: middle;\n    }\n\n    .dataframe tbody tr th {\n        vertical-align: top;\n    }\n\n    .dataframe thead th {\n        text-align: right;\n    }\n</style>\n<table border=\"1\" class=\"dataframe\">\n  <thead>\n    <tr style=\"text-align: right;\">\n      <th></th>\n      <th>date</th>\n      <th>Country/Region</th>\n      <th>Confirmed</th>\n      <th>Deaths</th>\n    </tr>\n  </thead>\n  <tbody>\n    <tr>\n      <td>461</td>\n      <td>2020-03-27</td>\n      <td>Total</td>\n      <td>279384.0</td>\n      <td>14150.0</td>\n    </tr>\n    <tr>\n      <td>460</td>\n      <td>2020-03-27</td>\n      <td>Korea, South</td>\n      <td>9332.0</td>\n      <td>139.0</td>\n    </tr>\n    <tr>\n      <td>459</td>\n      <td>2020-03-27</td>\n      <td>China</td>\n      <td>81897.0</td>\n      <td>3296.0</td>\n    </tr>\n    <tr>\n      <td>458</td>\n      <td>2020-03-27</td>\n      <td>Italy</td>\n      <td>86498.0</td>\n      <td>9134.0</td>\n    </tr>\n    <tr>\n      <td>457</td>\n      <td>2020-03-27</td>\n      <td>South Korea</td>\n      <td>0.0</td>\n      <td>0.0</td>\n    </tr>\n    <tr>\n      <td>...</td>\n      <td>...</td>\n      <td>...</td>\n      <td>...</td>\n      <td>...</td>\n    </tr>\n    <tr>\n      <td>4</td>\n      <td>2020-01-22</td>\n      <td>China</td>\n      <td>0.0</td>\n      <td>0.0</td>\n    </tr>\n    <tr>\n      <td>3</td>\n      <td>2020-01-22</td>\n      <td>Italy</td>\n      <td>0.0</td>\n      <td>0.0</td>\n    </tr>\n    <tr>\n      <td>2</td>\n      <td>2020-01-22</td>\n      <td>South Korea</td>\n      <td>1.0</td>\n      <td>0.0</td>\n    </tr>\n    <tr>\n      <td>1</td>\n      <td>2020-01-22</td>\n      <td>Mainland China</td>\n      <td>547.0</td>\n      <td>17.0</td>\n    </tr>\n    <tr>\n      <td>0</td>\n      <td>2020-01-22</td>\n      <td>US</td>\n      <td>1.0</td>\n      <td>0.0</td>\n    </tr>\n  </tbody>\n</table>\n<p>462 rows × 4 columns</p>\n</div>"
     },
     "metadata": {},
     "execution_count": 78
    }
   ],
   "source": [
    "# do loop for the changed format data for last 6 days\n",
    "start_date = dt.date(2020,3,22)\n",
    "last_date = dt.date(2020,3,28)\n",
    "days = (last_date - start_date).days\n",
    "for _ in range(int(days)):\n",
    "    load_string = current_date.strftime(\"%m-%d-%Y\")\n",
    "    today_df = pd.read_csv(data_loc + load_string +'.csv')\n",
    "    day_deaths_tot=0\n",
    "    day_confirmed_tot=0\n",
    "    for needed in ['US','Mainland China', 'South Korea', 'Italy','China','Korea, South']:\n",
    "        try:\n",
    "            needed_df = today_df.groupby('Country_Region').get_group(needed)\n",
    "            day_deaths_tot += needed_df['Deaths'].sum()\n",
    "            day_confirmed_tot += needed_df['Confirmed'].sum()\n",
    "            row = pd.DataFrame({'date':current_date,'Country/Region':needed,'Confirmed':needed_df['Confirmed'].sum(),'Deaths':needed_df['Deaths'].sum()},index=[i])\n",
    "            combine_df = pd.concat([row, combine_df])\n",
    "            i += 1\n",
    "        except KeyError:\n",
    "            row = pd.DataFrame({'date':current_date,'Country/Region':needed,'Confirmed':0,'Deaths':0},index=[i])\n",
    "            combine_df = pd.concat([row, combine_df])\n",
    "            i += 1\n",
    "            print(f'{needed} data not found')\n",
    "        # add total row\n",
    "    row = pd.DataFrame({'date':current_date,'Country/Region':'Total','Confirmed':day_confirmed_tot,'Deaths':day_deaths_tot},index=[i])\n",
    "    combine_df = pd.concat([row, combine_df])\n",
    "    i += 1\n",
    "    # increment date\n",
    "    current_date = current_date + dt.timedelta(days=1)\n",
    "combine_df"
   ]
  },
  {
   "cell_type": "code",
   "execution_count": 11,
   "metadata": {},
   "outputs": [
    {
     "output_type": "execute_result",
     "data": {
      "text/plain": "datetime.date(2020, 1, 23)"
     },
     "metadata": {},
     "execution_count": 11
    }
   ],
   "source": []
  },
  {
   "cell_type": "code",
   "execution_count": null,
   "metadata": {},
   "outputs": [],
   "source": []
  },
  {
   "cell_type": "code",
   "execution_count": 79,
   "metadata": {},
   "outputs": [
    {
     "output_type": "execute_result",
     "data": {
      "text/plain": "datetime.date(2020, 3, 23)"
     },
     "metadata": {},
     "execution_count": 79
    }
   ],
   "source": [
    "# just some testing script below\n",
    "\n",
    "next_day = start_date + dt.timedelta(days=1)\n",
    "next_day"
   ]
  },
  {
   "cell_type": "code",
   "execution_count": 31,
   "metadata": {},
   "outputs": [
    {
     "output_type": "error",
     "ename": "KeyError",
     "evalue": "'Italy'",
     "traceback": [
      "\u001b[1;31m---------------------------------------------------------------------------\u001b[0m",
      "\u001b[1;31mKeyError\u001b[0m                                  Traceback (most recent call last)",
      "\u001b[1;32m<ipython-input-31-29e352601a0d>\u001b[0m in \u001b[0;36m<module>\u001b[1;34m\u001b[0m\n\u001b[0;32m      1\u001b[0m \u001b[0mdf\u001b[0m\u001b[1;33m.\u001b[0m\u001b[0mgroupby\u001b[0m\u001b[1;33m(\u001b[0m\u001b[1;34m'Country/Region'\u001b[0m\u001b[1;33m)\u001b[0m\u001b[1;33m.\u001b[0m\u001b[0mget_group\u001b[0m\u001b[1;33m(\u001b[0m\u001b[1;34m'Mainland China'\u001b[0m\u001b[1;33m)\u001b[0m\u001b[1;33m[\u001b[0m\u001b[1;34m'Confirmed'\u001b[0m\u001b[1;33m]\u001b[0m\u001b[1;33m.\u001b[0m\u001b[0msum\u001b[0m\u001b[1;33m(\u001b[0m\u001b[1;33m)\u001b[0m\u001b[1;33m\u001b[0m\u001b[1;33m\u001b[0m\u001b[0m\n\u001b[1;32m----> 2\u001b[1;33m \u001b[0mdf\u001b[0m\u001b[1;33m.\u001b[0m\u001b[0mgroupby\u001b[0m\u001b[1;33m(\u001b[0m\u001b[1;34m'Country/Region'\u001b[0m\u001b[1;33m)\u001b[0m\u001b[1;33m.\u001b[0m\u001b[0mget_group\u001b[0m\u001b[1;33m(\u001b[0m\u001b[1;34m'Italy'\u001b[0m\u001b[1;33m)\u001b[0m\u001b[1;33m\u001b[0m\u001b[1;33m\u001b[0m\u001b[0m\n\u001b[0m\u001b[0;32m      3\u001b[0m \u001b[1;33m\u001b[0m\u001b[0m\n\u001b[0;32m      4\u001b[0m \u001b[1;31m# df['Confirmed'].sum()\u001b[0m\u001b[1;33m\u001b[0m\u001b[1;33m\u001b[0m\u001b[1;33m\u001b[0m\u001b[0m\n",
      "\u001b[1;32m~\\Anaconda3\\lib\\site-packages\\pandas\\core\\groupby\\groupby.py\u001b[0m in \u001b[0;36mget_group\u001b[1;34m(self, name, obj)\u001b[0m\n\u001b[0;32m    678\u001b[0m         \u001b[0minds\u001b[0m \u001b[1;33m=\u001b[0m \u001b[0mself\u001b[0m\u001b[1;33m.\u001b[0m\u001b[0m_get_index\u001b[0m\u001b[1;33m(\u001b[0m\u001b[0mname\u001b[0m\u001b[1;33m)\u001b[0m\u001b[1;33m\u001b[0m\u001b[1;33m\u001b[0m\u001b[0m\n\u001b[0;32m    679\u001b[0m         \u001b[1;32mif\u001b[0m \u001b[1;32mnot\u001b[0m \u001b[0mlen\u001b[0m\u001b[1;33m(\u001b[0m\u001b[0minds\u001b[0m\u001b[1;33m)\u001b[0m\u001b[1;33m:\u001b[0m\u001b[1;33m\u001b[0m\u001b[1;33m\u001b[0m\u001b[0m\n\u001b[1;32m--> 680\u001b[1;33m             \u001b[1;32mraise\u001b[0m \u001b[0mKeyError\u001b[0m\u001b[1;33m(\u001b[0m\u001b[0mname\u001b[0m\u001b[1;33m)\u001b[0m\u001b[1;33m\u001b[0m\u001b[1;33m\u001b[0m\u001b[0m\n\u001b[0m\u001b[0;32m    681\u001b[0m \u001b[1;33m\u001b[0m\u001b[0m\n\u001b[0;32m    682\u001b[0m         \u001b[1;32mreturn\u001b[0m \u001b[0mobj\u001b[0m\u001b[1;33m.\u001b[0m\u001b[0mtake\u001b[0m\u001b[1;33m(\u001b[0m\u001b[0minds\u001b[0m\u001b[1;33m,\u001b[0m \u001b[0maxis\u001b[0m\u001b[1;33m=\u001b[0m\u001b[0mself\u001b[0m\u001b[1;33m.\u001b[0m\u001b[0maxis\u001b[0m\u001b[1;33m)\u001b[0m\u001b[1;33m\u001b[0m\u001b[1;33m\u001b[0m\u001b[0m\n",
      "\u001b[1;31mKeyError\u001b[0m: 'Italy'"
     ]
    }
   ],
   "source": [
    "df.groupby('Country/Region').get_group('Mainland China')['Confirmed'].sum()\n",
    "df.groupby('Country/Region').get_group('Italy')\n",
    "\n",
    "# df['Confirmed'].sum()"
   ]
  },
  {
   "cell_type": "code",
   "execution_count": 20,
   "metadata": {},
   "outputs": [
    {
     "output_type": "execute_result",
     "data": {
      "text/plain": "Empty DataFrame\nColumns: [date, Country/Region, Confirmed, Deaths]\nIndex: []",
      "text/html": "<div>\n<style scoped>\n    .dataframe tbody tr th:only-of-type {\n        vertical-align: middle;\n    }\n\n    .dataframe tbody tr th {\n        vertical-align: top;\n    }\n\n    .dataframe thead th {\n        text-align: right;\n    }\n</style>\n<table border=\"1\" class=\"dataframe\">\n  <thead>\n    <tr style=\"text-align: right;\">\n      <th></th>\n      <th>date</th>\n      <th>Country/Region</th>\n      <th>Confirmed</th>\n      <th>Deaths</th>\n    </tr>\n  </thead>\n  <tbody>\n  </tbody>\n</table>\n</div>"
     },
     "metadata": {},
     "execution_count": 20
    }
   ],
   "source": [
    "combine_df = pd.DataFrame({'date':'','Country/Region':'','Confirmed':'','Deaths':''},index=[])\n",
    "combine_df.head()"
   ]
  },
  {
   "cell_type": "code",
   "execution_count": 47,
   "metadata": {},
   "outputs": [
    {
     "output_type": "stream",
     "name": "stdout",
     "text": "data not found\n"
    },
    {
     "output_type": "execute_result",
     "data": {
      "text/plain": "         date  Country/Region  Confirmed  Deaths\n0  2020-01-22           Italy        NaN     NaN\n1  2020-01-22     South Korea        1.0     0.0\n2  2020-01-22  Mainland China      547.0    17.0\n3  2020-01-22              US        1.0     0.0",
      "text/html": "<div>\n<style scoped>\n    .dataframe tbody tr th:only-of-type {\n        vertical-align: middle;\n    }\n\n    .dataframe tbody tr th {\n        vertical-align: top;\n    }\n\n    .dataframe thead th {\n        text-align: right;\n    }\n</style>\n<table border=\"1\" class=\"dataframe\">\n  <thead>\n    <tr style=\"text-align: right;\">\n      <th></th>\n      <th>date</th>\n      <th>Country/Region</th>\n      <th>Confirmed</th>\n      <th>Deaths</th>\n    </tr>\n  </thead>\n  <tbody>\n    <tr>\n      <td>0</td>\n      <td>2020-01-22</td>\n      <td>Italy</td>\n      <td>NaN</td>\n      <td>NaN</td>\n    </tr>\n    <tr>\n      <td>1</td>\n      <td>2020-01-22</td>\n      <td>South Korea</td>\n      <td>1.0</td>\n      <td>0.0</td>\n    </tr>\n    <tr>\n      <td>2</td>\n      <td>2020-01-22</td>\n      <td>Mainland China</td>\n      <td>547.0</td>\n      <td>17.0</td>\n    </tr>\n    <tr>\n      <td>3</td>\n      <td>2020-01-22</td>\n      <td>US</td>\n      <td>1.0</td>\n      <td>0.0</td>\n    </tr>\n  </tbody>\n</table>\n</div>"
     },
     "metadata": {},
     "execution_count": 47
    }
   ],
   "source": [
    "combine_df = pd.DataFrame()\n",
    "i=0\n",
    "for needed in ['US','Mainland China', 'South Korea', 'Italy']:\n",
    "    try:\n",
    "        needed_df = df.groupby('Country/Region').get_group(needed)\n",
    "        row = pd.DataFrame({'date':start_date,'Country/Region':needed,'Confirmed':needed_df['Confirmed'].sum(),'Deaths':needed_df['Deaths'].sum()},index=[i])\n",
    "        i += 1\n",
    "        combine_df\n",
    "        combine_df = pd.concat([row, combine_df], ignore_index=True)\n",
    "    except KeyError:\n",
    "        row = pd.DataFrame({'date':start_date,'Country/Region':needed,'Confirmed':np.NaN,'Deaths':np.NaN},index=[i])\n",
    "        i += 1\n",
    "        combine_df\n",
    "        combine_df = pd.concat([row, combine_df], ignore_index=True)\n",
    "        print('data not found')\n",
    "\n",
    "combine_df"
   ]
  },
  {
   "cell_type": "code",
   "execution_count": 30,
   "metadata": {},
   "outputs": [
    {
     "output_type": "execute_result",
     "data": {
      "text/plain": "Empty DataFrame\nColumns: []\nIndex: []",
      "text/html": "<div>\n<style scoped>\n    .dataframe tbody tr th:only-of-type {\n        vertical-align: middle;\n    }\n\n    .dataframe tbody tr th {\n        vertical-align: top;\n    }\n\n    .dataframe thead th {\n        text-align: right;\n    }\n</style>\n<table border=\"1\" class=\"dataframe\">\n  <thead>\n    <tr style=\"text-align: right;\">\n      <th></th>\n    </tr>\n  </thead>\n  <tbody>\n  </tbody>\n</table>\n</div>"
     },
     "metadata": {},
     "execution_count": 30
    }
   ],
   "source": [
    "combine_df = pd.DataFrame()\n",
    "combine_df.head()"
   ]
  },
  {
   "cell_type": "code",
   "execution_count": 44,
   "metadata": {},
   "outputs": [
    {
     "output_type": "execute_result",
     "data": {
      "text/plain": "         date  Country/Region  Confirmed  Deaths\n0  2020-01-22  Mainland China      547.0    17.0",
      "text/html": "<div>\n<style scoped>\n    .dataframe tbody tr th:only-of-type {\n        vertical-align: middle;\n    }\n\n    .dataframe tbody tr th {\n        vertical-align: top;\n    }\n\n    .dataframe thead th {\n        text-align: right;\n    }\n</style>\n<table border=\"1\" class=\"dataframe\">\n  <thead>\n    <tr style=\"text-align: right;\">\n      <th></th>\n      <th>date</th>\n      <th>Country/Region</th>\n      <th>Confirmed</th>\n      <th>Deaths</th>\n    </tr>\n  </thead>\n  <tbody>\n    <tr>\n      <td>0</td>\n      <td>2020-01-22</td>\n      <td>Mainland China</td>\n      <td>547.0</td>\n      <td>17.0</td>\n    </tr>\n  </tbody>\n</table>\n</div>"
     },
     "metadata": {},
     "execution_count": 44
    }
   ],
   "source": [
    "row = pd.DataFrame({'date':start_date,'Country/Region':'Mainland China','Confirmed':df.groupby('Country/Region').get_group('Mainland China')['Confirmed'].sum(),'Deaths':df.groupby('Country/Region').get_group('Mainland China')['Deaths'].sum()},index=[0])\n",
    "# df.groupby('Country/Region').get_group('Mainland China')['Confirmed'].sum()\n",
    "row.head()\n",
    ""
   ]
  },
  {
   "cell_type": "code",
   "execution_count": 38,
   "metadata": {},
   "outputs": [
    {
     "output_type": "execute_result",
     "data": {
      "text/plain": "datetime.date(2020, 1, 22)"
     },
     "metadata": {},
     "execution_count": 38
    }
   ],
   "source": [
    "start_date"
   ]
  },
  {
   "cell_type": "code",
   "execution_count": 39,
   "metadata": {},
   "outputs": [
    {
     "output_type": "execute_result",
     "data": {
      "text/plain": "547.0"
     },
     "metadata": {},
     "execution_count": 39
    }
   ],
   "source": [
    "df.groupby('Country/Region').get_group('Mainland China')['Confirmed'].sum()"
   ]
  },
  {
   "cell_type": "code",
   "execution_count": null,
   "metadata": {},
   "outputs": [],
   "source": []
  }
 ]
}