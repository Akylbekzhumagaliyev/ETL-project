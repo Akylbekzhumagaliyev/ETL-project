{
 "nbformat": 4,
 "nbformat_minor": 2,
 "metadata": {
  "language_info": {
   "name": "python",
   "codemirror_mode": {
    "name": "ipython",
    "version": 3
   },
   "version": "3.7.4-final"
  },
  "orig_nbformat": 2,
  "file_extension": ".py",
  "mimetype": "text/x-python",
  "name": "python",
  "npconvert_exporter": "python",
  "pygments_lexer": "ipython3",
  "version": 3,
  "kernelspec": {
   "name": "python37464bitbaseconda6b55c75a92594a4496380a81f2f453fd",
   "display_name": "Python 3.7.4 64-bit ('base': conda)"
  }
 },
 "cells": [
  {
   "cell_type": "code",
   "execution_count": 2,
   "metadata": {},
   "outputs": [],
   "source": [
    "# Script to combine case data with market data for each country\n",
    "# By Chris Chiang\n",
    "import pandas as pd\n",
    "import datetime as dt\n",
    "import numpy as np\n"
   ]
  },
  {
   "cell_type": "code",
   "execution_count": 38,
   "metadata": {},
   "outputs": [
    {
     "output_type": "execute_result",
     "data": {
      "text/plain": "         Date      Price Change %\n0  2019-12-23  28,551.53    0.34%\n1  2019-12-24  28,515.45   -0.13%\n2  2019-12-26  28,621.39    0.37%\n3  2019-12-27  28,645.26    0.08%\n4  2019-12-30  28,462.14   -0.64%",
      "text/html": "<div>\n<style scoped>\n    .dataframe tbody tr th:only-of-type {\n        vertical-align: middle;\n    }\n\n    .dataframe tbody tr th {\n        vertical-align: top;\n    }\n\n    .dataframe thead th {\n        text-align: right;\n    }\n</style>\n<table border=\"1\" class=\"dataframe\">\n  <thead>\n    <tr style=\"text-align: right;\">\n      <th></th>\n      <th>Date</th>\n      <th>Price</th>\n      <th>Change %</th>\n    </tr>\n  </thead>\n  <tbody>\n    <tr>\n      <td>0</td>\n      <td>2019-12-23</td>\n      <td>28,551.53</td>\n      <td>0.34%</td>\n    </tr>\n    <tr>\n      <td>1</td>\n      <td>2019-12-24</td>\n      <td>28,515.45</td>\n      <td>-0.13%</td>\n    </tr>\n    <tr>\n      <td>2</td>\n      <td>2019-12-26</td>\n      <td>28,621.39</td>\n      <td>0.37%</td>\n    </tr>\n    <tr>\n      <td>3</td>\n      <td>2019-12-27</td>\n      <td>28,645.26</td>\n      <td>0.08%</td>\n    </tr>\n    <tr>\n      <td>4</td>\n      <td>2019-12-30</td>\n      <td>28,462.14</td>\n      <td>-0.64%</td>\n    </tr>\n  </tbody>\n</table>\n</div>"
     },
     "metadata": {},
     "execution_count": 38
    }
   ],
   "source": [
    "# Load in raw data\n",
    "data_loc = '../cleaned_data/'\n",
    "US_df = pd.read_csv(data_loc + 'DOW.csv')\n",
    "It_df = pd.read_csv(data_loc + 'MIB.csv')\n",
    "KR_df = pd.read_csv(data_loc + 'korea_market.csv')\n",
    "CN_df = pd.read_csv(data_loc + 'china_market.csv')\n",
    "cases_df = pd.read_csv(data_loc + 'cases.csv')\n",
    "dow_df.head()"
   ]
  },
  {
   "cell_type": "code",
   "execution_count": 41,
   "metadata": {},
   "outputs": [
    {
     "output_type": "execute_result",
     "data": {
      "text/plain": "          Date Country/Region  Confirmed cases  Deaths Index Price  \\\n0   2020-03-27    South Korea           9332.0   139.0    1,717.73   \n1   2020-03-26    South Korea           9241.0   131.0    1,686.24   \n2   2020-03-25    South Korea           9137.0   126.0    1,704.76   \n3   2020-03-24    South Korea           9037.0   120.0    1,609.97   \n4   2020-03-23    South Korea           8961.0   111.0    1,482.46   \n..         ...            ...              ...     ...         ...   \n60  2019-12-30    South Korea              0.0     0.0    2,197.67   \n61  2019-12-27    South Korea              0.0     0.0    2,204.21   \n62  2019-12-26    South Korea              0.0     0.0    2,197.93   \n63  2019-12-24    South Korea              0.0     0.0    2,190.08   \n64  2019-12-23    South Korea              0.0     0.0    2,203.71   \n\n   Index Daily % Change  \n0                 1.87%  \n1                -1.09%  \n2                 5.89%  \n3                 8.60%  \n4                -5.34%  \n..                  ...  \n60               -0.30%  \n61                0.29%  \n62                0.36%  \n63               -0.62%  \n64               -0.02%  \n\n[65 rows x 6 columns]",
      "text/html": "<div>\n<style scoped>\n    .dataframe tbody tr th:only-of-type {\n        vertical-align: middle;\n    }\n\n    .dataframe tbody tr th {\n        vertical-align: top;\n    }\n\n    .dataframe thead th {\n        text-align: right;\n    }\n</style>\n<table border=\"1\" class=\"dataframe\">\n  <thead>\n    <tr style=\"text-align: right;\">\n      <th></th>\n      <th>Date</th>\n      <th>Country/Region</th>\n      <th>Confirmed cases</th>\n      <th>Deaths</th>\n      <th>Index Price</th>\n      <th>Index Daily % Change</th>\n    </tr>\n  </thead>\n  <tbody>\n    <tr>\n      <td>0</td>\n      <td>2020-03-27</td>\n      <td>South Korea</td>\n      <td>9332.0</td>\n      <td>139.0</td>\n      <td>1,717.73</td>\n      <td>1.87%</td>\n    </tr>\n    <tr>\n      <td>1</td>\n      <td>2020-03-26</td>\n      <td>South Korea</td>\n      <td>9241.0</td>\n      <td>131.0</td>\n      <td>1,686.24</td>\n      <td>-1.09%</td>\n    </tr>\n    <tr>\n      <td>2</td>\n      <td>2020-03-25</td>\n      <td>South Korea</td>\n      <td>9137.0</td>\n      <td>126.0</td>\n      <td>1,704.76</td>\n      <td>5.89%</td>\n    </tr>\n    <tr>\n      <td>3</td>\n      <td>2020-03-24</td>\n      <td>South Korea</td>\n      <td>9037.0</td>\n      <td>120.0</td>\n      <td>1,609.97</td>\n      <td>8.60%</td>\n    </tr>\n    <tr>\n      <td>4</td>\n      <td>2020-03-23</td>\n      <td>South Korea</td>\n      <td>8961.0</td>\n      <td>111.0</td>\n      <td>1,482.46</td>\n      <td>-5.34%</td>\n    </tr>\n    <tr>\n      <td>...</td>\n      <td>...</td>\n      <td>...</td>\n      <td>...</td>\n      <td>...</td>\n      <td>...</td>\n      <td>...</td>\n    </tr>\n    <tr>\n      <td>60</td>\n      <td>2019-12-30</td>\n      <td>South Korea</td>\n      <td>0.0</td>\n      <td>0.0</td>\n      <td>2,197.67</td>\n      <td>-0.30%</td>\n    </tr>\n    <tr>\n      <td>61</td>\n      <td>2019-12-27</td>\n      <td>South Korea</td>\n      <td>0.0</td>\n      <td>0.0</td>\n      <td>2,204.21</td>\n      <td>0.29%</td>\n    </tr>\n    <tr>\n      <td>62</td>\n      <td>2019-12-26</td>\n      <td>South Korea</td>\n      <td>0.0</td>\n      <td>0.0</td>\n      <td>2,197.93</td>\n      <td>0.36%</td>\n    </tr>\n    <tr>\n      <td>63</td>\n      <td>2019-12-24</td>\n      <td>South Korea</td>\n      <td>0.0</td>\n      <td>0.0</td>\n      <td>2,190.08</td>\n      <td>-0.62%</td>\n    </tr>\n    <tr>\n      <td>64</td>\n      <td>2019-12-23</td>\n      <td>South Korea</td>\n      <td>0.0</td>\n      <td>0.0</td>\n      <td>2,203.71</td>\n      <td>-0.02%</td>\n    </tr>\n  </tbody>\n</table>\n<p>65 rows × 6 columns</p>\n</div>"
     },
     "metadata": {},
     "execution_count": 41
    }
   ],
   "source": [
    "# Combine South Korea\n",
    "KR_with_cases_df= pd.DataFrame.merge(cases_df.groupby('Country/Region').get_group('South Korea'),KR_df,on='Date',how='right')\n",
    "KR_with_cases_df['Country/Region']='South Korea'\n",
    "KR_with_cases_df.rename(columns = {'Confirmed':\"Confirmed cases\",'Price':\"Index Price\", \"Change %\": \"Index Daily % Change\"},inplace=True)\n",
    "KR_with_cases_df[\"Confirmed cases\"]=KR_with_cases_df[\"Confirmed cases\"].fillna(0)\n",
    "KR_with_cases_df[\"Deaths\"]=KR_with_cases_df[\"Deaths\"].fillna(0)\n",
    "KR_with_cases_df.to_csv('../cleaned_data/Combine_data_tables/KR_All.csv',index=False)\n",
    "KR_with_cases_df\n"
   ]
  },
  {
   "cell_type": "code",
   "execution_count": 34,
   "metadata": {},
   "outputs": [
    {
     "output_type": "execute_result",
     "data": {
      "text/plain": "          Date  Country/Region  Confirmed cases  Deaths Index Price  \\\n0   2020-03-27  Mainland China          81897.0  3296.0    2,772.20   \n1   2020-03-26  Mainland China          81782.0  3291.0    2,764.91   \n2   2020-03-25  Mainland China          81661.0  3285.0    2,781.59   \n3   2020-03-24  Mainland China          81591.0  3281.0    2,722.44   \n4   2020-03-23  Mainland China          81496.0  3274.0    2,660.17   \n..         ...             ...              ...     ...         ...   \n60  2019-12-27  Mainland China              NaN     NaN    3,005.04   \n61  2019-12-26  Mainland China              NaN     NaN    3,007.35   \n62  2019-12-25  Mainland China              NaN     NaN    2,981.88   \n63  2019-12-24  Mainland China              NaN     NaN    2,982.68   \n64  2019-12-23  Mainland China              NaN     NaN    2,962.75   \n\n   Index Daily % Change  \n0                 0.26%  \n1                -0.60%  \n2                 2.17%  \n3                 2.34%  \n4                -3.11%  \n..                  ...  \n60               -0.08%  \n61                0.85%  \n62               -0.03%  \n63                0.67%  \n64               -1.40%  \n\n[65 rows x 6 columns]",
      "text/html": "<div>\n<style scoped>\n    .dataframe tbody tr th:only-of-type {\n        vertical-align: middle;\n    }\n\n    .dataframe tbody tr th {\n        vertical-align: top;\n    }\n\n    .dataframe thead th {\n        text-align: right;\n    }\n</style>\n<table border=\"1\" class=\"dataframe\">\n  <thead>\n    <tr style=\"text-align: right;\">\n      <th></th>\n      <th>Date</th>\n      <th>Country/Region</th>\n      <th>Confirmed cases</th>\n      <th>Deaths</th>\n      <th>Index Price</th>\n      <th>Index Daily % Change</th>\n    </tr>\n  </thead>\n  <tbody>\n    <tr>\n      <td>0</td>\n      <td>2020-03-27</td>\n      <td>Mainland China</td>\n      <td>81897.0</td>\n      <td>3296.0</td>\n      <td>2,772.20</td>\n      <td>0.26%</td>\n    </tr>\n    <tr>\n      <td>1</td>\n      <td>2020-03-26</td>\n      <td>Mainland China</td>\n      <td>81782.0</td>\n      <td>3291.0</td>\n      <td>2,764.91</td>\n      <td>-0.60%</td>\n    </tr>\n    <tr>\n      <td>2</td>\n      <td>2020-03-25</td>\n      <td>Mainland China</td>\n      <td>81661.0</td>\n      <td>3285.0</td>\n      <td>2,781.59</td>\n      <td>2.17%</td>\n    </tr>\n    <tr>\n      <td>3</td>\n      <td>2020-03-24</td>\n      <td>Mainland China</td>\n      <td>81591.0</td>\n      <td>3281.0</td>\n      <td>2,722.44</td>\n      <td>2.34%</td>\n    </tr>\n    <tr>\n      <td>4</td>\n      <td>2020-03-23</td>\n      <td>Mainland China</td>\n      <td>81496.0</td>\n      <td>3274.0</td>\n      <td>2,660.17</td>\n      <td>-3.11%</td>\n    </tr>\n    <tr>\n      <td>...</td>\n      <td>...</td>\n      <td>...</td>\n      <td>...</td>\n      <td>...</td>\n      <td>...</td>\n      <td>...</td>\n    </tr>\n    <tr>\n      <td>60</td>\n      <td>2019-12-27</td>\n      <td>Mainland China</td>\n      <td>NaN</td>\n      <td>NaN</td>\n      <td>3,005.04</td>\n      <td>-0.08%</td>\n    </tr>\n    <tr>\n      <td>61</td>\n      <td>2019-12-26</td>\n      <td>Mainland China</td>\n      <td>NaN</td>\n      <td>NaN</td>\n      <td>3,007.35</td>\n      <td>0.85%</td>\n    </tr>\n    <tr>\n      <td>62</td>\n      <td>2019-12-25</td>\n      <td>Mainland China</td>\n      <td>NaN</td>\n      <td>NaN</td>\n      <td>2,981.88</td>\n      <td>-0.03%</td>\n    </tr>\n    <tr>\n      <td>63</td>\n      <td>2019-12-24</td>\n      <td>Mainland China</td>\n      <td>NaN</td>\n      <td>NaN</td>\n      <td>2,982.68</td>\n      <td>0.67%</td>\n    </tr>\n    <tr>\n      <td>64</td>\n      <td>2019-12-23</td>\n      <td>Mainland China</td>\n      <td>NaN</td>\n      <td>NaN</td>\n      <td>2,962.75</td>\n      <td>-1.40%</td>\n    </tr>\n  </tbody>\n</table>\n<p>65 rows × 6 columns</p>\n</div>"
     },
     "metadata": {},
     "execution_count": 34
    }
   ],
   "source": [
    "# Combine China\n",
    "CN_with_cases_df= pd.DataFrame.merge(cases_df.groupby('Country/Region').get_group('Mainland China'),CN_df,on='Date',how='right')\n",
    "CN_with_cases_df['Country/Region']='Mainland China'\n",
    "CN_with_cases_df.rename(columns = {'Confirmed':\"Confirmed cases\",'Price':\"Index Price\", \"Change %\": \"Index Daily % Change\"},inplace=True)\n",
    "CN_with_cases_df[\"Confirmed cases\"]=CN_with_cases_df[\"Confirmed cases\"].fillna(0)\n",
    "CN_with_cases_df[\"Deaths\"]=CN_with_cases_df[\"Deaths\"].fillna(0)\n",
    "CN_with_cases_df.to_csv('../cleaned_data/Combine_data_tables/CN_All.csv',index=False)\n",
    "CN_with_cases_df"
   ]
  },
  {
   "cell_type": "code",
   "execution_count": 42,
   "metadata": {},
   "outputs": [
    {
     "output_type": "execute_result",
     "data": {
      "text/plain": "          Date Country/Region  Confirmed cases  Deaths Index Price  \\\n0   2020-03-27             US         101657.0  1581.0   21,636.78   \n1   2020-03-26             US          83836.0  1209.0   22,552.17   \n2   2020-03-25             US          65778.0   942.0   21,200.55   \n3   2020-03-24             US          53740.0   706.0   20,704.91   \n4   2020-03-23             US          43667.0   552.0   18,591.93   \n..         ...            ...              ...     ...         ...   \n61  2020-01-14             US              0.0     0.0   28,939.67   \n62  2020-01-15             US              0.0     0.0   29,030.22   \n63  2020-01-16             US              0.0     0.0   29,297.64   \n64  2020-01-17             US              0.0     0.0   29,348.10   \n65  2020-01-21             US              0.0     0.0   29,196.04   \n\n   Index Daily % Change  \n0                -4.06%  \n1                 6.38%  \n2                 2.39%  \n3                11.37%  \n4                -3.04%  \n..                  ...  \n61                0.11%  \n62                0.31%  \n63                0.92%  \n64                0.17%  \n65               -0.52%  \n\n[66 rows x 6 columns]",
      "text/html": "<div>\n<style scoped>\n    .dataframe tbody tr th:only-of-type {\n        vertical-align: middle;\n    }\n\n    .dataframe tbody tr th {\n        vertical-align: top;\n    }\n\n    .dataframe thead th {\n        text-align: right;\n    }\n</style>\n<table border=\"1\" class=\"dataframe\">\n  <thead>\n    <tr style=\"text-align: right;\">\n      <th></th>\n      <th>Date</th>\n      <th>Country/Region</th>\n      <th>Confirmed cases</th>\n      <th>Deaths</th>\n      <th>Index Price</th>\n      <th>Index Daily % Change</th>\n    </tr>\n  </thead>\n  <tbody>\n    <tr>\n      <td>0</td>\n      <td>2020-03-27</td>\n      <td>US</td>\n      <td>101657.0</td>\n      <td>1581.0</td>\n      <td>21,636.78</td>\n      <td>-4.06%</td>\n    </tr>\n    <tr>\n      <td>1</td>\n      <td>2020-03-26</td>\n      <td>US</td>\n      <td>83836.0</td>\n      <td>1209.0</td>\n      <td>22,552.17</td>\n      <td>6.38%</td>\n    </tr>\n    <tr>\n      <td>2</td>\n      <td>2020-03-25</td>\n      <td>US</td>\n      <td>65778.0</td>\n      <td>942.0</td>\n      <td>21,200.55</td>\n      <td>2.39%</td>\n    </tr>\n    <tr>\n      <td>3</td>\n      <td>2020-03-24</td>\n      <td>US</td>\n      <td>53740.0</td>\n      <td>706.0</td>\n      <td>20,704.91</td>\n      <td>11.37%</td>\n    </tr>\n    <tr>\n      <td>4</td>\n      <td>2020-03-23</td>\n      <td>US</td>\n      <td>43667.0</td>\n      <td>552.0</td>\n      <td>18,591.93</td>\n      <td>-3.04%</td>\n    </tr>\n    <tr>\n      <td>...</td>\n      <td>...</td>\n      <td>...</td>\n      <td>...</td>\n      <td>...</td>\n      <td>...</td>\n      <td>...</td>\n    </tr>\n    <tr>\n      <td>61</td>\n      <td>2020-01-14</td>\n      <td>US</td>\n      <td>0.0</td>\n      <td>0.0</td>\n      <td>28,939.67</td>\n      <td>0.11%</td>\n    </tr>\n    <tr>\n      <td>62</td>\n      <td>2020-01-15</td>\n      <td>US</td>\n      <td>0.0</td>\n      <td>0.0</td>\n      <td>29,030.22</td>\n      <td>0.31%</td>\n    </tr>\n    <tr>\n      <td>63</td>\n      <td>2020-01-16</td>\n      <td>US</td>\n      <td>0.0</td>\n      <td>0.0</td>\n      <td>29,297.64</td>\n      <td>0.92%</td>\n    </tr>\n    <tr>\n      <td>64</td>\n      <td>2020-01-17</td>\n      <td>US</td>\n      <td>0.0</td>\n      <td>0.0</td>\n      <td>29,348.10</td>\n      <td>0.17%</td>\n    </tr>\n    <tr>\n      <td>65</td>\n      <td>2020-01-21</td>\n      <td>US</td>\n      <td>0.0</td>\n      <td>0.0</td>\n      <td>29,196.04</td>\n      <td>-0.52%</td>\n    </tr>\n  </tbody>\n</table>\n<p>66 rows × 6 columns</p>\n</div>"
     },
     "metadata": {},
     "execution_count": 42
    }
   ],
   "source": [
    "# Combine US\n",
    "US_with_cases_df= pd.DataFrame.merge(cases_df.groupby('Country/Region').get_group('US'),US_df,on='Date',how='right')\n",
    "US_with_cases_df['Country/Region']='US'\n",
    "US_with_cases_df.rename(columns = {'Confirmed':\"Confirmed cases\",'Price':\"Index Price\", \"Change %\": \"Index Daily % Change\"},inplace=True)\n",
    "US_with_cases_df[\"Confirmed cases\"]=US_with_cases_df[\"Confirmed cases\"].fillna(0)\n",
    "US_with_cases_df[\"Deaths\"]=US_with_cases_df[\"Deaths\"].fillna(0)\n",
    "US_with_cases_df.to_csv('../cleaned_data/Combine_data_tables/US_All.csv',index=False)\n",
    "US_with_cases_df"
   ]
  },
  {
   "cell_type": "code",
   "execution_count": 43,
   "metadata": {},
   "outputs": [
    {
     "output_type": "execute_result",
     "data": {
      "text/plain": "          Date Country/Region  Confirmed cases  Deaths Index Price  \\\n0   2020-03-27          Italy          86498.0  9134.0   16,822.59   \n1   2020-03-26          Italy          80589.0  8215.0   17,369.38   \n2   2020-03-25          Italy          74386.0  7503.0   17,243.68   \n3   2020-03-24          Italy          69176.0  6820.0   16,948.60   \n4   2020-03-23          Italy          63927.0  6077.0   15,559.80   \n..         ...            ...              ...     ...         ...   \n59  2020-01-15          Italy              0.0     0.0   23,763.86   \n60  2020-01-16          Italy              0.0     0.0   23,940.41   \n61  2020-01-17          Italy              0.0     0.0   24,141.07   \n62  2020-01-20          Italy              0.0     0.0   24,002.45   \n63  2020-01-21          Italy              0.0     0.0   23,845.28   \n\n   Index Daily % Change  \n0                -3.15%  \n1                 0.73%  \n2                 1.74%  \n3                 8.93%  \n4                -1.09%  \n..                  ...  \n59               -0.69%  \n60                0.74%  \n61                0.84%  \n62               -0.57%  \n63               -0.65%  \n\n[64 rows x 6 columns]",
      "text/html": "<div>\n<style scoped>\n    .dataframe tbody tr th:only-of-type {\n        vertical-align: middle;\n    }\n\n    .dataframe tbody tr th {\n        vertical-align: top;\n    }\n\n    .dataframe thead th {\n        text-align: right;\n    }\n</style>\n<table border=\"1\" class=\"dataframe\">\n  <thead>\n    <tr style=\"text-align: right;\">\n      <th></th>\n      <th>Date</th>\n      <th>Country/Region</th>\n      <th>Confirmed cases</th>\n      <th>Deaths</th>\n      <th>Index Price</th>\n      <th>Index Daily % Change</th>\n    </tr>\n  </thead>\n  <tbody>\n    <tr>\n      <td>0</td>\n      <td>2020-03-27</td>\n      <td>Italy</td>\n      <td>86498.0</td>\n      <td>9134.0</td>\n      <td>16,822.59</td>\n      <td>-3.15%</td>\n    </tr>\n    <tr>\n      <td>1</td>\n      <td>2020-03-26</td>\n      <td>Italy</td>\n      <td>80589.0</td>\n      <td>8215.0</td>\n      <td>17,369.38</td>\n      <td>0.73%</td>\n    </tr>\n    <tr>\n      <td>2</td>\n      <td>2020-03-25</td>\n      <td>Italy</td>\n      <td>74386.0</td>\n      <td>7503.0</td>\n      <td>17,243.68</td>\n      <td>1.74%</td>\n    </tr>\n    <tr>\n      <td>3</td>\n      <td>2020-03-24</td>\n      <td>Italy</td>\n      <td>69176.0</td>\n      <td>6820.0</td>\n      <td>16,948.60</td>\n      <td>8.93%</td>\n    </tr>\n    <tr>\n      <td>4</td>\n      <td>2020-03-23</td>\n      <td>Italy</td>\n      <td>63927.0</td>\n      <td>6077.0</td>\n      <td>15,559.80</td>\n      <td>-1.09%</td>\n    </tr>\n    <tr>\n      <td>...</td>\n      <td>...</td>\n      <td>...</td>\n      <td>...</td>\n      <td>...</td>\n      <td>...</td>\n      <td>...</td>\n    </tr>\n    <tr>\n      <td>59</td>\n      <td>2020-01-15</td>\n      <td>Italy</td>\n      <td>0.0</td>\n      <td>0.0</td>\n      <td>23,763.86</td>\n      <td>-0.69%</td>\n    </tr>\n    <tr>\n      <td>60</td>\n      <td>2020-01-16</td>\n      <td>Italy</td>\n      <td>0.0</td>\n      <td>0.0</td>\n      <td>23,940.41</td>\n      <td>0.74%</td>\n    </tr>\n    <tr>\n      <td>61</td>\n      <td>2020-01-17</td>\n      <td>Italy</td>\n      <td>0.0</td>\n      <td>0.0</td>\n      <td>24,141.07</td>\n      <td>0.84%</td>\n    </tr>\n    <tr>\n      <td>62</td>\n      <td>2020-01-20</td>\n      <td>Italy</td>\n      <td>0.0</td>\n      <td>0.0</td>\n      <td>24,002.45</td>\n      <td>-0.57%</td>\n    </tr>\n    <tr>\n      <td>63</td>\n      <td>2020-01-21</td>\n      <td>Italy</td>\n      <td>0.0</td>\n      <td>0.0</td>\n      <td>23,845.28</td>\n      <td>-0.65%</td>\n    </tr>\n  </tbody>\n</table>\n<p>64 rows × 6 columns</p>\n</div>"
     },
     "metadata": {},
     "execution_count": 43
    }
   ],
   "source": [
    "# Combine Italy\n",
    "It_with_cases_df= pd.DataFrame.merge(cases_df.groupby('Country/Region').get_group('Italy'),It_df,on='Date',how='right')\n",
    "It_with_cases_df['Country/Region']='Italy'\n",
    "It_with_cases_df.rename(columns = {'Confirmed':\"Confirmed cases\",'Price':\"Index Price\", \"Change %\": \"Index Daily % Change\"},inplace=True)\n",
    "It_with_cases_df[\"Confirmed cases\"]=It_with_cases_df[\"Confirmed cases\"].fillna(0)\n",
    "It_with_cases_df[\"Deaths\"]=It_with_cases_df[\"Deaths\"].fillna(0)\n",
    "It_with_cases_df.to_csv('../cleaned_data/Combine_data_tables/It_All.csv',index=False)\n",
    "It_with_cases_df"
   ]
  },
  {
   "cell_type": "code",
   "execution_count": 50,
   "metadata": {},
   "outputs": [
    {
     "output_type": "execute_result",
     "data": {
      "text/plain": "           Date Country/Region  Confirmed cases   Deaths\n0    2020-03-27          Total         279384.0  14150.0\n5    2020-03-26          Total         255448.0  12846.0\n10   2020-03-25          Total         230962.0  11856.0\n15   2020-03-24          Total         213544.0  10927.0\n20   2020-03-23          Total         198051.0  10014.0\n..          ...            ...              ...      ...\n307  2020-01-26          Total           2070.0     56.0\n312  2020-01-25          Total           1403.0     42.0\n317  2020-01-24          Total            920.0     26.0\n322  2020-01-23          Total            641.0     18.0\n327  2020-01-22          Total            549.0     17.0\n\n[66 rows x 4 columns]",
      "text/html": "<div>\n<style scoped>\n    .dataframe tbody tr th:only-of-type {\n        vertical-align: middle;\n    }\n\n    .dataframe tbody tr th {\n        vertical-align: top;\n    }\n\n    .dataframe thead th {\n        text-align: right;\n    }\n</style>\n<table border=\"1\" class=\"dataframe\">\n  <thead>\n    <tr style=\"text-align: right;\">\n      <th></th>\n      <th>Date</th>\n      <th>Country/Region</th>\n      <th>Confirmed cases</th>\n      <th>Deaths</th>\n    </tr>\n  </thead>\n  <tbody>\n    <tr>\n      <td>0</td>\n      <td>2020-03-27</td>\n      <td>Total</td>\n      <td>279384.0</td>\n      <td>14150.0</td>\n    </tr>\n    <tr>\n      <td>5</td>\n      <td>2020-03-26</td>\n      <td>Total</td>\n      <td>255448.0</td>\n      <td>12846.0</td>\n    </tr>\n    <tr>\n      <td>10</td>\n      <td>2020-03-25</td>\n      <td>Total</td>\n      <td>230962.0</td>\n      <td>11856.0</td>\n    </tr>\n    <tr>\n      <td>15</td>\n      <td>2020-03-24</td>\n      <td>Total</td>\n      <td>213544.0</td>\n      <td>10927.0</td>\n    </tr>\n    <tr>\n      <td>20</td>\n      <td>2020-03-23</td>\n      <td>Total</td>\n      <td>198051.0</td>\n      <td>10014.0</td>\n    </tr>\n    <tr>\n      <td>...</td>\n      <td>...</td>\n      <td>...</td>\n      <td>...</td>\n      <td>...</td>\n    </tr>\n    <tr>\n      <td>307</td>\n      <td>2020-01-26</td>\n      <td>Total</td>\n      <td>2070.0</td>\n      <td>56.0</td>\n    </tr>\n    <tr>\n      <td>312</td>\n      <td>2020-01-25</td>\n      <td>Total</td>\n      <td>1403.0</td>\n      <td>42.0</td>\n    </tr>\n    <tr>\n      <td>317</td>\n      <td>2020-01-24</td>\n      <td>Total</td>\n      <td>920.0</td>\n      <td>26.0</td>\n    </tr>\n    <tr>\n      <td>322</td>\n      <td>2020-01-23</td>\n      <td>Total</td>\n      <td>641.0</td>\n      <td>18.0</td>\n    </tr>\n    <tr>\n      <td>327</td>\n      <td>2020-01-22</td>\n      <td>Total</td>\n      <td>549.0</td>\n      <td>17.0</td>\n    </tr>\n  </tbody>\n</table>\n<p>66 rows × 4 columns</p>\n</div>"
     },
     "metadata": {},
     "execution_count": 50
    }
   ],
   "source": [
    "# Create total table\n",
    "tot_df= cases_df.groupby('Country/Region').get_group('Total')\n",
    "tot_df.rename(columns = {'Confirmed':\"Confirmed cases\"},inplace=True)\n",
    "tot_df.to_csv('../cleaned_data/Combine_data_tables/Total.csv',index=False)\n",
    "tot_df"
   ]
  },
  {
   "cell_type": "code",
   "execution_count": null,
   "metadata": {},
   "outputs": [],
   "source": []
  }
 ]
}