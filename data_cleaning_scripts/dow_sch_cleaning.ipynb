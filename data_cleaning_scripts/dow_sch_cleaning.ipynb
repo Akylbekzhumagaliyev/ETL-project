{
 "nbformat": 4,
 "nbformat_minor": 2,
 "metadata": {
  "language_info": {
   "name": "python",
   "codemirror_mode": {
    "name": "ipython",
    "version": 3
   },
   "version": "3.7.4-final"
  },
  "orig_nbformat": 2,
  "file_extension": ".py",
  "mimetype": "text/x-python",
  "name": "python",
  "npconvert_exporter": "python",
  "pygments_lexer": "ipython3",
  "version": 3,
  "kernelspec": {
   "name": "python37464bitbaseconda6b55c75a92594a4496380a81f2f453fd",
   "display_name": "Python 3.7.4 64-bit ('base': conda)"
  }
 },
 "cells": [
  {
   "cell_type": "code",
   "execution_count": 2,
   "metadata": {},
   "outputs": [],
   "source": [
    "# Cleaning Raw Data from DJI and SCH\n",
    "# By Chris Chiang\n",
    "import pandas as pd\n",
    "import datetime as dt\n",
    "import numpy as np\n",
    ""
   ]
  },
  {
   "cell_type": "code",
   "execution_count": 4,
   "metadata": {},
   "outputs": [
    {
     "output_type": "execute_result",
     "data": {
      "text/plain": "           Date      Price       Open       High        Low     Vol. Change %\n0  Mar 27, 2020  21,636.78  21,898.47  22,327.57  21,469.27  591.33M   -4.06%\n1  Mar 26, 2020  22,552.17  21,468.38  22,595.06  21,427.10  713.73M    6.38%\n2  Mar 25, 2020  21,200.55  21,050.34  22,019.93  20,538.34  803.31M    2.39%\n3  Mar 24, 2020  20,704.91  19,722.19  20,737.70  19,649.25  808.47M   11.37%\n4  Mar 23, 2020  18,591.93  19,028.36  19,121.01  18,213.65  801.24M   -3.04%",
      "text/html": "<div>\n<style scoped>\n    .dataframe tbody tr th:only-of-type {\n        vertical-align: middle;\n    }\n\n    .dataframe tbody tr th {\n        vertical-align: top;\n    }\n\n    .dataframe thead th {\n        text-align: right;\n    }\n</style>\n<table border=\"1\" class=\"dataframe\">\n  <thead>\n    <tr style=\"text-align: right;\">\n      <th></th>\n      <th>Date</th>\n      <th>Price</th>\n      <th>Open</th>\n      <th>High</th>\n      <th>Low</th>\n      <th>Vol.</th>\n      <th>Change %</th>\n    </tr>\n  </thead>\n  <tbody>\n    <tr>\n      <td>0</td>\n      <td>Mar 27, 2020</td>\n      <td>21,636.78</td>\n      <td>21,898.47</td>\n      <td>22,327.57</td>\n      <td>21,469.27</td>\n      <td>591.33M</td>\n      <td>-4.06%</td>\n    </tr>\n    <tr>\n      <td>1</td>\n      <td>Mar 26, 2020</td>\n      <td>22,552.17</td>\n      <td>21,468.38</td>\n      <td>22,595.06</td>\n      <td>21,427.10</td>\n      <td>713.73M</td>\n      <td>6.38%</td>\n    </tr>\n    <tr>\n      <td>2</td>\n      <td>Mar 25, 2020</td>\n      <td>21,200.55</td>\n      <td>21,050.34</td>\n      <td>22,019.93</td>\n      <td>20,538.34</td>\n      <td>803.31M</td>\n      <td>2.39%</td>\n    </tr>\n    <tr>\n      <td>3</td>\n      <td>Mar 24, 2020</td>\n      <td>20,704.91</td>\n      <td>19,722.19</td>\n      <td>20,737.70</td>\n      <td>19,649.25</td>\n      <td>808.47M</td>\n      <td>11.37%</td>\n    </tr>\n    <tr>\n      <td>4</td>\n      <td>Mar 23, 2020</td>\n      <td>18,591.93</td>\n      <td>19,028.36</td>\n      <td>19,121.01</td>\n      <td>18,213.65</td>\n      <td>801.24M</td>\n      <td>-3.04%</td>\n    </tr>\n  </tbody>\n</table>\n</div>"
     },
     "metadata": {},
     "execution_count": 4
    }
   ],
   "source": [
    "# Load in raw data\n",
    "data_loc = '../raw_data/Market_data/'\n",
    "dow_df = pd.read_csv(data_loc + 'Dow Jones Industrial Average Historical Data.csv')\n",
    "SCH_df = pd.read_csv(data_loc + 'Shanghai Composite Historical Data.csv')\n",
    "dow_df.head()"
   ]
  },
  {
   "cell_type": "code",
   "execution_count": 17,
   "metadata": {},
   "outputs": [
    {
     "output_type": "execute_result",
     "data": {
      "text/plain": "         date      Price Change %\n4  2020-03-23  18,591.93   -3.04%\n3  2020-03-24  20,704.91   11.37%\n2  2020-03-25  21,200.55    2.39%\n1  2020-03-26  22,552.17    6.38%\n0  2020-03-27  21,636.78   -4.06%",
      "text/html": "<div>\n<style scoped>\n    .dataframe tbody tr th:only-of-type {\n        vertical-align: middle;\n    }\n\n    .dataframe tbody tr th {\n        vertical-align: top;\n    }\n\n    .dataframe thead th {\n        text-align: right;\n    }\n</style>\n<table border=\"1\" class=\"dataframe\">\n  <thead>\n    <tr style=\"text-align: right;\">\n      <th></th>\n      <th>date</th>\n      <th>Price</th>\n      <th>Change %</th>\n    </tr>\n  </thead>\n  <tbody>\n    <tr>\n      <td>4</td>\n      <td>2020-03-23</td>\n      <td>18,591.93</td>\n      <td>-3.04%</td>\n    </tr>\n    <tr>\n      <td>3</td>\n      <td>2020-03-24</td>\n      <td>20,704.91</td>\n      <td>11.37%</td>\n    </tr>\n    <tr>\n      <td>2</td>\n      <td>2020-03-25</td>\n      <td>21,200.55</td>\n      <td>2.39%</td>\n    </tr>\n    <tr>\n      <td>1</td>\n      <td>2020-03-26</td>\n      <td>22,552.17</td>\n      <td>6.38%</td>\n    </tr>\n    <tr>\n      <td>0</td>\n      <td>2020-03-27</td>\n      <td>21,636.78</td>\n      <td>-4.06%</td>\n    </tr>\n  </tbody>\n</table>\n</div>"
     },
     "metadata": {},
     "execution_count": 17
    }
   ],
   "source": [
    "# Grab only change, price, and reformat date for DOW\n",
    "new_dow_df=pd.DataFrame()\n",
    "for index, row in dow_df.iterrows(): \n",
    "    date=dt.datetime.strptime(dow_df.iloc[index]['Date'],'%b %d, %Y').date()\n",
    "    row = pd.DataFrame({'date':date, 'Price':row['Price'],'Change %':row['Change %']},index=[index])\n",
    "    new_dow_df = pd.concat([row, new_dow_df])\n",
    "new_dow_df.tail()"
   ]
  },
  {
   "cell_type": "code",
   "execution_count": 20,
   "metadata": {},
   "outputs": [
    {
     "output_type": "execute_result",
     "data": {
      "text/plain": "         date     Price Change %\n4  2020-03-23  2,660.17   -3.11%\n3  2020-03-24  2,722.44    2.34%\n2  2020-03-25  2,781.59    2.17%\n1  2020-03-26  2,764.91   -0.60%\n0  2020-03-27  2,772.20    0.26%",
      "text/html": "<div>\n<style scoped>\n    .dataframe tbody tr th:only-of-type {\n        vertical-align: middle;\n    }\n\n    .dataframe tbody tr th {\n        vertical-align: top;\n    }\n\n    .dataframe thead th {\n        text-align: right;\n    }\n</style>\n<table border=\"1\" class=\"dataframe\">\n  <thead>\n    <tr style=\"text-align: right;\">\n      <th></th>\n      <th>date</th>\n      <th>Price</th>\n      <th>Change %</th>\n    </tr>\n  </thead>\n  <tbody>\n    <tr>\n      <td>4</td>\n      <td>2020-03-23</td>\n      <td>2,660.17</td>\n      <td>-3.11%</td>\n    </tr>\n    <tr>\n      <td>3</td>\n      <td>2020-03-24</td>\n      <td>2,722.44</td>\n      <td>2.34%</td>\n    </tr>\n    <tr>\n      <td>2</td>\n      <td>2020-03-25</td>\n      <td>2,781.59</td>\n      <td>2.17%</td>\n    </tr>\n    <tr>\n      <td>1</td>\n      <td>2020-03-26</td>\n      <td>2,764.91</td>\n      <td>-0.60%</td>\n    </tr>\n    <tr>\n      <td>0</td>\n      <td>2020-03-27</td>\n      <td>2,772.20</td>\n      <td>0.26%</td>\n    </tr>\n  </tbody>\n</table>\n</div>"
     },
     "metadata": {},
     "execution_count": 20
    }
   ],
   "source": [
    "# Grab only change, price, and reformat date for SCH\n",
    "new_SCH_df=pd.DataFrame()\n",
    "for index, row in SCH_df.iterrows(): \n",
    "    date=dt.datetime.strptime(SCH_df.iloc[index]['Date'],'%b %d, %Y').date()\n",
    "    row = pd.DataFrame({'date':date, 'Price':row['Price'],'Change %':row['Change %']},index=[index])\n",
    "    new_SCH_df = pd.concat([row, new_SCH_df])\n",
    "new_SCH_df.tail()"
   ]
  },
  {
   "cell_type": "code",
   "execution_count": 8,
   "metadata": {},
   "outputs": [
    {
     "output_type": "execute_result",
     "data": {
      "text/plain": "'Mar 27, 2020'"
     },
     "metadata": {},
     "execution_count": 8
    }
   ],
   "source": [
    "new_dow_df.to_csv('../cleaned_data/DOW.csv')\n",
    "new_SCH_df.to_csv('../cleaned_data/SCH.csv')"
   ]
  },
  {
   "cell_type": "code",
   "execution_count": null,
   "metadata": {},
   "outputs": [],
   "source": []
  }
 ]
}