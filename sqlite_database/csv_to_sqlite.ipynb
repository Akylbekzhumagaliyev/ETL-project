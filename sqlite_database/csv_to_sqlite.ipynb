{
 "cells": [
  {
   "cell_type": "code",
   "execution_count": 1,
   "metadata": {},
   "outputs": [],
   "source": [
    "# Coverting csv data files into a sqlite database\n",
    "# By Chris Chiang\n",
    "import numpy as np\n",
    "import pandas as pd\n",
    "import datetime as dt"
   ]
  },
  {
   "cell_type": "code",
   "execution_count": 2,
   "metadata": {},
   "outputs": [],
   "source": [
    "import sqlalchemy\n",
    "from sqlalchemy.ext.automap import automap_base\n",
    "from sqlalchemy.orm import Session\n",
    "from sqlalchemy import create_engine, func, inspect, Column\n",
    "from sqlalchemy.types import Float, String, Date, BigInteger\n",
    "from sqlalchemy.ext.declarative import declarative_base"
   ]
  },
  {
   "cell_type": "code",
   "execution_count": 9,
   "metadata": {},
   "outputs": [],
   "source": [
    "# load in csv file and some cleaning and sorting\n",
    "data_loc = '../cleaned_data/Combine_data_tables/'\n",
    "US_df = pd.read_csv(data_loc + 'US_ALL.csv')\n",
    "It_df = pd.read_csv(data_loc + 'It_ALL.csv')\n",
    "KR_df = pd.read_csv(data_loc + 'KR_ALL.csv')\n",
    "CN_df = pd.read_csv(data_loc + 'CN_ALL.csv')\n",
    "tot_df = pd.read_csv(data_loc + 'Total.csv')\n",
    "event_df = pd.read_csv(data_loc + 'article_new.csv')\n",
    "event_df=event_df.rename(columns={'date':'Date','article':'Major Event'})\n",
    "US_df.sort_values('Date',inplace=True)\n",
    "It_df.sort_values('Date',inplace=True)\n",
    "KR_df.sort_values('Date',inplace=True)\n",
    "CN_df.sort_values('Date',inplace=True)\n",
    "tot_df.sort_values('Date',inplace=True)\n",
    "event_df.sort_values('Date',inplace=True)"
   ]
  },
  {
   "cell_type": "code",
   "execution_count": 10,
   "metadata": {},
   "outputs": [],
   "source": [
    "US_df['Date']=US_df['Date'].apply(lambda x : dt.date.fromisoformat(x))\n",
    "It_df['Date']=It_df['Date'].apply(lambda x : dt.date.fromisoformat(x))\n",
    "CN_df['Date']=CN_df['Date'].apply(lambda x : dt.date.fromisoformat(x))\n",
    "KR_df['Date']=KR_df['Date'].apply(lambda x : dt.date.fromisoformat(x))\n",
    "tot_df['Date']=tot_df['Date'].apply(lambda x : dt.date.fromisoformat(x))\n",
    "event_df['Date']=event_df['Date'].apply(lambda x : dt.date.fromisoformat(x))"
   ]
  },
  {
   "cell_type": "code",
   "execution_count": 11,
   "metadata": {},
   "outputs": [
    {
     "output_type": "execute_result",
     "data": {
      "text/plain": "          Date Country/Region  Confirmed cases  Deaths  Index Price  \\\n64  2019-12-23    South Korea              0.0     0.0      2203.71   \n63  2019-12-24    South Korea              0.0     0.0      2190.08   \n62  2019-12-26    South Korea              0.0     0.0      2197.93   \n61  2019-12-27    South Korea              0.0     0.0      2204.21   \n60  2019-12-30    South Korea              0.0     0.0      2197.67   \n..         ...            ...              ...     ...          ...   \n4   2020-03-23    South Korea           8961.0   111.0      1482.46   \n3   2020-03-24    South Korea           9037.0   120.0      1609.97   \n2   2020-03-25    South Korea           9137.0   126.0      1704.76   \n1   2020-03-26    South Korea           9241.0   131.0      1686.24   \n0   2020-03-27    South Korea           9332.0   139.0      1717.73   \n\n    Index Daily % Change  \n64                 -0.02  \n63                 -0.62  \n62                  0.36  \n61                  0.29  \n60                 -0.30  \n..                   ...  \n4                  -5.34  \n3                   8.60  \n2                   5.89  \n1                  -1.09  \n0                   1.87  \n\n[65 rows x 6 columns]",
      "text/html": "<div>\n<style scoped>\n    .dataframe tbody tr th:only-of-type {\n        vertical-align: middle;\n    }\n\n    .dataframe tbody tr th {\n        vertical-align: top;\n    }\n\n    .dataframe thead th {\n        text-align: right;\n    }\n</style>\n<table border=\"1\" class=\"dataframe\">\n  <thead>\n    <tr style=\"text-align: right;\">\n      <th></th>\n      <th>Date</th>\n      <th>Country/Region</th>\n      <th>Confirmed cases</th>\n      <th>Deaths</th>\n      <th>Index Price</th>\n      <th>Index Daily % Change</th>\n    </tr>\n  </thead>\n  <tbody>\n    <tr>\n      <td>64</td>\n      <td>2019-12-23</td>\n      <td>South Korea</td>\n      <td>0.0</td>\n      <td>0.0</td>\n      <td>2203.71</td>\n      <td>-0.02</td>\n    </tr>\n    <tr>\n      <td>63</td>\n      <td>2019-12-24</td>\n      <td>South Korea</td>\n      <td>0.0</td>\n      <td>0.0</td>\n      <td>2190.08</td>\n      <td>-0.62</td>\n    </tr>\n    <tr>\n      <td>62</td>\n      <td>2019-12-26</td>\n      <td>South Korea</td>\n      <td>0.0</td>\n      <td>0.0</td>\n      <td>2197.93</td>\n      <td>0.36</td>\n    </tr>\n    <tr>\n      <td>61</td>\n      <td>2019-12-27</td>\n      <td>South Korea</td>\n      <td>0.0</td>\n      <td>0.0</td>\n      <td>2204.21</td>\n      <td>0.29</td>\n    </tr>\n    <tr>\n      <td>60</td>\n      <td>2019-12-30</td>\n      <td>South Korea</td>\n      <td>0.0</td>\n      <td>0.0</td>\n      <td>2197.67</td>\n      <td>-0.30</td>\n    </tr>\n    <tr>\n      <td>...</td>\n      <td>...</td>\n      <td>...</td>\n      <td>...</td>\n      <td>...</td>\n      <td>...</td>\n      <td>...</td>\n    </tr>\n    <tr>\n      <td>4</td>\n      <td>2020-03-23</td>\n      <td>South Korea</td>\n      <td>8961.0</td>\n      <td>111.0</td>\n      <td>1482.46</td>\n      <td>-5.34</td>\n    </tr>\n    <tr>\n      <td>3</td>\n      <td>2020-03-24</td>\n      <td>South Korea</td>\n      <td>9037.0</td>\n      <td>120.0</td>\n      <td>1609.97</td>\n      <td>8.60</td>\n    </tr>\n    <tr>\n      <td>2</td>\n      <td>2020-03-25</td>\n      <td>South Korea</td>\n      <td>9137.0</td>\n      <td>126.0</td>\n      <td>1704.76</td>\n      <td>5.89</td>\n    </tr>\n    <tr>\n      <td>1</td>\n      <td>2020-03-26</td>\n      <td>South Korea</td>\n      <td>9241.0</td>\n      <td>131.0</td>\n      <td>1686.24</td>\n      <td>-1.09</td>\n    </tr>\n    <tr>\n      <td>0</td>\n      <td>2020-03-27</td>\n      <td>South Korea</td>\n      <td>9332.0</td>\n      <td>139.0</td>\n      <td>1717.73</td>\n      <td>1.87</td>\n    </tr>\n  </tbody>\n</table>\n<p>65 rows × 6 columns</p>\n</div>"
     },
     "metadata": {},
     "execution_count": 11
    }
   ],
   "source": [
    "KR_df"
   ]
  },
  {
   "cell_type": "code",
   "execution_count": 8,
   "metadata": {},
   "outputs": [
    {
     "output_type": "stream",
     "name": "stdout",
     "text": "2020-03-30 20:35:04,148 INFO sqlalchemy.engine.base.Engine SELECT CAST('test plain returns' AS VARCHAR(60)) AS anon_1\n2020-03-30 20:35:04,149 INFO sqlalchemy.engine.base.Engine ()\n2020-03-30 20:35:04,149 INFO sqlalchemy.engine.base.Engine SELECT CAST('test unicode returns' AS VARCHAR(60)) AS anon_1\n2020-03-30 20:35:04,150 INFO sqlalchemy.engine.base.Engine ()\n"
    }
   ],
   "source": [
    "# create sqlite file\n",
    "engine = create_engine(\"sqlite:///Covid19DB_VS_Market.sqlite\", echo=True)\n",
    "conn = engine.connect()"
   ]
  },
  {
   "cell_type": "code",
   "execution_count": 12,
   "metadata": {},
   "outputs": [],
   "source": [
    "# define data types\n",
    "table_type_country={'Date':Date ,'Country/Region':String,'Confirmed cases':BigInteger,'Deaths':BigInteger,'Index Price':Float,'Index Daily % Change':Float}\n",
    "table_type_tot={'Date':Date ,'Country/Region':String,'Confirmed cases':BigInteger,'Deaths':BigInteger}\n",
    "table_type_eve={'Date':Date ,'Major Event':String}"
   ]
  },
  {
   "cell_type": "code",
   "execution_count": 23,
   "metadata": {
    "tags": [
     "outputPrepend",
     "outputPrepend",
     "outputPrepend",
     "outputPrepend",
     "outputPrepend",
     "outputPrepend",
     "outputPrepend",
     "outputPrepend",
     "outputPrepend",
     "outputPrepend",
     "outputPrepend",
     "outputPrepend",
     "outputPrepend",
     "outputPrepend",
     "outputPrepend",
     "outputPrepend",
     "outputPrepend",
     "outputPrepend",
     "outputPrepend",
     "outputPrepend",
     "outputPrepend",
     "outputPrepend",
     "outputPrepend",
     "outputPrepend",
     "outputPrepend",
     "outputPrepend",
     "outputPrepend",
     "outputPrepend",
     "outputPrepend",
     "outputPrepend",
     "outputPrepend",
     "outputPrepend",
     "outputPrepend",
     "outputPrepend",
     "outputPrepend",
     "outputPrepend",
     "outputPrepend",
     "outputPrepend",
     "outputPrepend",
     "outputPrepend",
     "outputPrepend",
     "outputPrepend"
    ]
   },
   "outputs": [
    {
     "output_type": "stream",
     "name": "stdout",
     "text": "e.base.Engine PRAGMA temp.index_list(\"Italy_data\")\n2020-03-30 20:47:02,660 INFO sqlalchemy.engine.base.Engine ()\n2020-03-30 20:47:02,661 INFO sqlalchemy.engine.base.Engine SELECT sql FROM  (SELECT * FROM sqlite_master UNION ALL   SELECT * FROM sqlite_temp_master) WHERE name = 'Italy_data' AND type = 'table'\n2020-03-30 20:47:02,661 INFO sqlalchemy.engine.base.Engine ()\n2020-03-30 20:47:02,662 INFO sqlalchemy.engine.base.Engine \nDROP TABLE \"Italy_data\"\n2020-03-30 20:47:02,662 INFO sqlalchemy.engine.base.Engine ()\n2020-03-30 20:47:02,666 INFO sqlalchemy.engine.base.Engine COMMIT\n2020-03-30 20:47:02,667 INFO sqlalchemy.engine.base.Engine \nCREATE TABLE \"Italy_data\" (\n\t\"Date\" DATE, \n\t\"Country/Region\" VARCHAR, \n\t\"Confirmed cases\" BIGINT, \n\t\"Deaths\" BIGINT, \n\t\"Index Price\" FLOAT, \n\t\"Index Daily % Change\" FLOAT\n)\n\n\n2020-03-30 20:47:02,668 INFO sqlalchemy.engine.base.Engine ()\n2020-03-30 20:47:02,672 INFO sqlalchemy.engine.base.Engine COMMIT\n2020-03-30 20:47:02,672 INFO sqlalchemy.engine.base.Engine BEGIN (implicit)\n2020-03-30 20:47:02,674 INFO sqlalchemy.engine.base.Engine INSERT INTO \"Italy_data\" (\"Date\", \"Country/Region\", \"Confirmed cases\", \"Deaths\", \"Index Price\", \"Index Daily % Change\") VALUES (?, ?, ?, ?, ?, ?)\n2020-03-30 20:47:02,675 INFO sqlalchemy.engine.base.Engine (('2019-12-27', 'Italy', 0.0, 0.0, 23757.6, -0.59), ('2019-12-30', 'Italy', 0.0, 0.0, 23506.37, -1.06), ('2020-01-02', 'Italy', 0.0, 0.0, 23836.26, 1.4), ('2020-01-03', 'Italy', 0.0, 0.0, 23702.35, -0.56), ('2020-01-06', 'Italy', 0.0, 0.0, 23581.29, -0.51), ('2020-01-07', 'Italy', 0.0, 0.0, 23723.38, 0.6), ('2020-01-08', 'Italy', 0.0, 0.0, 23832.02, 0.46), ('2020-01-09', 'Italy', 0.0, 0.0, 24016.7, 0.77)  ... displaying 10 of 64 total bound parameter sets ...  ('2020-03-26', 'Italy', 80589.0, 8215.0, 17369.38, 0.73), ('2020-03-27', 'Italy', 86498.0, 9134.0, 16822.59, -3.15))\n2020-03-30 20:47:02,676 INFO sqlalchemy.engine.base.Engine COMMIT\n2020-03-30 20:47:02,679 INFO sqlalchemy.engine.base.Engine SELECT name FROM sqlite_master WHERE type='table' ORDER BY name\n2020-03-30 20:47:02,680 INFO sqlalchemy.engine.base.Engine ()\n2020-03-30 20:47:02,681 INFO sqlalchemy.engine.base.Engine PRAGMA main.table_info(\"China_data\")\n2020-03-30 20:47:02,682 INFO sqlalchemy.engine.base.Engine ()\n2020-03-30 20:47:02,683 INFO sqlalchemy.engine.base.Engine PRAGMA main.table_info(\"China_data\")\n2020-03-30 20:47:02,683 INFO sqlalchemy.engine.base.Engine ()\n2020-03-30 20:47:02,684 INFO sqlalchemy.engine.base.Engine SELECT name FROM sqlite_master WHERE type='table' ORDER BY name\n2020-03-30 20:47:02,684 INFO sqlalchemy.engine.base.Engine ()\n2020-03-30 20:47:02,685 INFO sqlalchemy.engine.base.Engine PRAGMA main.table_info(\"China_data\")\n2020-03-30 20:47:02,685 INFO sqlalchemy.engine.base.Engine ()\n2020-03-30 20:47:02,687 INFO sqlalchemy.engine.base.Engine SELECT sql FROM  (SELECT * FROM sqlite_master UNION ALL   SELECT * FROM sqlite_temp_master) WHERE name = 'China_data' AND type = 'table'\n2020-03-30 20:47:02,687 INFO sqlalchemy.engine.base.Engine ()\n2020-03-30 20:47:02,688 INFO sqlalchemy.engine.base.Engine PRAGMA main.foreign_key_list(\"China_data\")\n2020-03-30 20:47:02,688 INFO sqlalchemy.engine.base.Engine ()\n2020-03-30 20:47:02,689 INFO sqlalchemy.engine.base.Engine PRAGMA temp.foreign_key_list(\"China_data\")\n2020-03-30 20:47:02,689 INFO sqlalchemy.engine.base.Engine ()\n2020-03-30 20:47:02,690 INFO sqlalchemy.engine.base.Engine SELECT sql FROM  (SELECT * FROM sqlite_master UNION ALL   SELECT * FROM sqlite_temp_master) WHERE name = 'China_data' AND type = 'table'\n2020-03-30 20:47:02,690 INFO sqlalchemy.engine.base.Engine ()\n2020-03-30 20:47:02,691 INFO sqlalchemy.engine.base.Engine PRAGMA main.index_list(\"China_data\")\n2020-03-30 20:47:02,691 INFO sqlalchemy.engine.base.Engine ()\n2020-03-30 20:47:02,692 INFO sqlalchemy.engine.base.Engine PRAGMA temp.index_list(\"China_data\")\n2020-03-30 20:47:02,692 INFO sqlalchemy.engine.base.Engine ()\n2020-03-30 20:47:02,693 INFO sqlalchemy.engine.base.Engine PRAGMA main.index_list(\"China_data\")\n2020-03-30 20:47:02,693 INFO sqlalchemy.engine.base.Engine ()\n2020-03-30 20:47:02,694 INFO sqlalchemy.engine.base.Engine PRAGMA temp.index_list(\"China_data\")\n2020-03-30 20:47:02,694 INFO sqlalchemy.engine.base.Engine ()\n2020-03-30 20:47:02,695 INFO sqlalchemy.engine.base.Engine SELECT sql FROM  (SELECT * FROM sqlite_master UNION ALL   SELECT * FROM sqlite_temp_master) WHERE name = 'China_data' AND type = 'table'\n2020-03-30 20:47:02,695 INFO sqlalchemy.engine.base.Engine ()\n2020-03-30 20:47:02,696 INFO sqlalchemy.engine.base.Engine \nDROP TABLE \"China_data\"\n2020-03-30 20:47:02,696 INFO sqlalchemy.engine.base.Engine ()\n2020-03-30 20:47:02,700 INFO sqlalchemy.engine.base.Engine COMMIT\n2020-03-30 20:47:02,701 INFO sqlalchemy.engine.base.Engine \nCREATE TABLE \"China_data\" (\n\t\"Date\" DATE, \n\t\"Country/Region\" VARCHAR, \n\t\"Confirmed cases\" BIGINT, \n\t\"Deaths\" BIGINT, \n\t\"Index Price\" FLOAT, \n\t\"Index Daily % Change\" FLOAT\n)\n\n\n2020-03-30 20:47:02,701 INFO sqlalchemy.engine.base.Engine ()\n2020-03-30 20:47:02,705 INFO sqlalchemy.engine.base.Engine COMMIT\n2020-03-30 20:47:02,706 INFO sqlalchemy.engine.base.Engine BEGIN (implicit)\n2020-03-30 20:47:02,708 INFO sqlalchemy.engine.base.Engine INSERT INTO \"China_data\" (\"Date\", \"Country/Region\", \"Confirmed cases\", \"Deaths\", \"Index Price\", \"Index Daily % Change\") VALUES (?, ?, ?, ?, ?, ?)\n2020-03-30 20:47:02,708 INFO sqlalchemy.engine.base.Engine (('2019-12-23', 'Mainland China', 0.0, 0.0, 2962.75, -1.4), ('2019-12-24', 'Mainland China', 0.0, 0.0, 2982.68, 0.67), ('2019-12-25', 'Mainland China', 0.0, 0.0, 2981.88, -0.03), ('2019-12-26', 'Mainland China', 0.0, 0.0, 3007.35, 0.85), ('2019-12-27', 'Mainland China', 0.0, 0.0, 3005.04, -0.08), ('2019-12-30', 'Mainland China', 0.0, 0.0, 3040.02, 1.16), ('2019-12-31', 'Mainland China', 0.0, 0.0, 3050.12, 0.33), ('2020-01-02', 'Mainland China', 0.0, 0.0, 3085.2, 1.15)  ... displaying 10 of 65 total bound parameter sets ...  ('2020-03-26', 'Mainland China', 81782.0, 3291.0, 2764.91, -0.6), ('2020-03-27', 'Mainland China', 81897.0, 3296.0, 2772.2, 0.26))\n2020-03-30 20:47:02,710 INFO sqlalchemy.engine.base.Engine COMMIT\n2020-03-30 20:47:02,713 INFO sqlalchemy.engine.base.Engine SELECT name FROM sqlite_master WHERE type='table' ORDER BY name\n2020-03-30 20:47:02,713 INFO sqlalchemy.engine.base.Engine ()\n2020-03-30 20:47:02,715 INFO sqlalchemy.engine.base.Engine PRAGMA main.table_info(\"Korea_data\")\n2020-03-30 20:47:02,716 INFO sqlalchemy.engine.base.Engine ()\n2020-03-30 20:47:02,716 INFO sqlalchemy.engine.base.Engine PRAGMA main.table_info(\"Korea_data\")\n2020-03-30 20:47:02,717 INFO sqlalchemy.engine.base.Engine ()\n2020-03-30 20:47:02,718 INFO sqlalchemy.engine.base.Engine SELECT name FROM sqlite_master WHERE type='table' ORDER BY name\n2020-03-30 20:47:02,719 INFO sqlalchemy.engine.base.Engine ()\n2020-03-30 20:47:02,719 INFO sqlalchemy.engine.base.Engine PRAGMA main.table_info(\"Korea_data\")\n2020-03-30 20:47:02,720 INFO sqlalchemy.engine.base.Engine ()\n2020-03-30 20:47:02,721 INFO sqlalchemy.engine.base.Engine SELECT sql FROM  (SELECT * FROM sqlite_master UNION ALL   SELECT * FROM sqlite_temp_master) WHERE name = 'Korea_data' AND type = 'table'\n2020-03-30 20:47:02,721 INFO sqlalchemy.engine.base.Engine ()\n2020-03-30 20:47:02,722 INFO sqlalchemy.engine.base.Engine PRAGMA main.foreign_key_list(\"Korea_data\")\n2020-03-30 20:47:02,723 INFO sqlalchemy.engine.base.Engine ()\n2020-03-30 20:47:02,724 INFO sqlalchemy.engine.base.Engine PRAGMA temp.foreign_key_list(\"Korea_data\")\n2020-03-30 20:47:02,725 INFO sqlalchemy.engine.base.Engine ()\n2020-03-30 20:47:02,726 INFO sqlalchemy.engine.base.Engine SELECT sql FROM  (SELECT * FROM sqlite_master UNION ALL   SELECT * FROM sqlite_temp_master) WHERE name = 'Korea_data' AND type = 'table'\n2020-03-30 20:47:02,726 INFO sqlalchemy.engine.base.Engine ()\n2020-03-30 20:47:02,727 INFO sqlalchemy.engine.base.Engine PRAGMA main.index_list(\"Korea_data\")\n2020-03-30 20:47:02,727 INFO sqlalchemy.engine.base.Engine ()\n2020-03-30 20:47:02,728 INFO sqlalchemy.engine.base.Engine PRAGMA temp.index_list(\"Korea_data\")\n2020-03-30 20:47:02,729 INFO sqlalchemy.engine.base.Engine ()\n2020-03-30 20:47:02,729 INFO sqlalchemy.engine.base.Engine PRAGMA main.index_list(\"Korea_data\")\n2020-03-30 20:47:02,729 INFO sqlalchemy.engine.base.Engine ()\n2020-03-30 20:47:02,730 INFO sqlalchemy.engine.base.Engine PRAGMA temp.index_list(\"Korea_data\")\n2020-03-30 20:47:02,731 INFO sqlalchemy.engine.base.Engine ()\n2020-03-30 20:47:02,731 INFO sqlalchemy.engine.base.Engine SELECT sql FROM  (SELECT * FROM sqlite_master UNION ALL   SELECT * FROM sqlite_temp_master) WHERE name = 'Korea_data' AND type = 'table'\n2020-03-30 20:47:02,732 INFO sqlalchemy.engine.base.Engine ()\n2020-03-30 20:47:02,732 INFO sqlalchemy.engine.base.Engine \nDROP TABLE \"Korea_data\"\n2020-03-30 20:47:02,733 INFO sqlalchemy.engine.base.Engine ()\n2020-03-30 20:47:02,738 INFO sqlalchemy.engine.base.Engine COMMIT\n2020-03-30 20:47:02,739 INFO sqlalchemy.engine.base.Engine \nCREATE TABLE \"Korea_data\" (\n\t\"Date\" DATE, \n\t\"Country/Region\" VARCHAR, \n\t\"Confirmed cases\" BIGINT, \n\t\"Deaths\" BIGINT, \n\t\"Index Price\" FLOAT, \n\t\"Index Daily % Change\" FLOAT\n)\n\n\n2020-03-30 20:47:02,740 INFO sqlalchemy.engine.base.Engine ()\n2020-03-30 20:47:02,744 INFO sqlalchemy.engine.base.Engine COMMIT\n2020-03-30 20:47:02,745 INFO sqlalchemy.engine.base.Engine BEGIN (implicit)\n2020-03-30 20:47:02,747 INFO sqlalchemy.engine.base.Engine INSERT INTO \"Korea_data\" (\"Date\", \"Country/Region\", \"Confirmed cases\", \"Deaths\", \"Index Price\", \"Index Daily % Change\") VALUES (?, ?, ?, ?, ?, ?)\n2020-03-30 20:47:02,747 INFO sqlalchemy.engine.base.Engine (('2019-12-23', 'South Korea', 0.0, 0.0, 2203.71, -0.02), ('2019-12-24', 'South Korea', 0.0, 0.0, 2190.08, -0.62), ('2019-12-26', 'South Korea', 0.0, 0.0, 2197.93, 0.36), ('2019-12-27', 'South Korea', 0.0, 0.0, 2204.21, 0.29), ('2019-12-30', 'South Korea', 0.0, 0.0, 2197.67, -0.3), ('2020-01-02', 'South Korea', 0.0, 0.0, 2175.17, -1.02), ('2020-01-03', 'South Korea', 0.0, 0.0, 2176.46, 0.06), ('2020-01-06', 'South Korea', 0.0, 0.0, 2155.07, -0.98)  ... displaying 10 of 65 total bound parameter sets ...  ('2020-03-26', 'South Korea', 9241.0, 131.0, 1686.24, -1.09), ('2020-03-27', 'South Korea', 9332.0, 139.0, 1717.73, 1.87))\n2020-03-30 20:47:02,749 INFO sqlalchemy.engine.base.Engine COMMIT\n2020-03-30 20:47:02,753 INFO sqlalchemy.engine.base.Engine SELECT name FROM sqlite_master WHERE type='table' ORDER BY name\n2020-03-30 20:47:02,754 INFO sqlalchemy.engine.base.Engine ()\n2020-03-30 20:47:02,755 INFO sqlalchemy.engine.base.Engine PRAGMA main.table_info(\"Total_table\")\n2020-03-30 20:47:02,756 INFO sqlalchemy.engine.base.Engine ()\n2020-03-30 20:47:02,757 INFO sqlalchemy.engine.base.Engine PRAGMA main.table_info(\"Total_table\")\n2020-03-30 20:47:02,758 INFO sqlalchemy.engine.base.Engine ()\n2020-03-30 20:47:02,758 INFO sqlalchemy.engine.base.Engine SELECT name FROM sqlite_master WHERE type='table' ORDER BY name\n2020-03-30 20:47:02,759 INFO sqlalchemy.engine.base.Engine ()\n2020-03-30 20:47:02,759 INFO sqlalchemy.engine.base.Engine PRAGMA main.table_info(\"Total_table\")\n2020-03-30 20:47:02,760 INFO sqlalchemy.engine.base.Engine ()\n2020-03-30 20:47:02,761 INFO sqlalchemy.engine.base.Engine SELECT sql FROM  (SELECT * FROM sqlite_master UNION ALL   SELECT * FROM sqlite_temp_master) WHERE name = 'Total_table' AND type = 'table'\n2020-03-30 20:47:02,761 INFO sqlalchemy.engine.base.Engine ()\n2020-03-30 20:47:02,762 INFO sqlalchemy.engine.base.Engine PRAGMA main.foreign_key_list(\"Total_table\")\n2020-03-30 20:47:02,763 INFO sqlalchemy.engine.base.Engine ()\n2020-03-30 20:47:02,763 INFO sqlalchemy.engine.base.Engine PRAGMA temp.foreign_key_list(\"Total_table\")\n2020-03-30 20:47:02,764 INFO sqlalchemy.engine.base.Engine ()\n2020-03-30 20:47:02,765 INFO sqlalchemy.engine.base.Engine SELECT sql FROM  (SELECT * FROM sqlite_master UNION ALL   SELECT * FROM sqlite_temp_master) WHERE name = 'Total_table' AND type = 'table'\n2020-03-30 20:47:02,765 INFO sqlalchemy.engine.base.Engine ()\n2020-03-30 20:47:02,766 INFO sqlalchemy.engine.base.Engine PRAGMA main.index_list(\"Total_table\")\n2020-03-30 20:47:02,767 INFO sqlalchemy.engine.base.Engine ()\n2020-03-30 20:47:02,767 INFO sqlalchemy.engine.base.Engine PRAGMA temp.index_list(\"Total_table\")\n2020-03-30 20:47:02,768 INFO sqlalchemy.engine.base.Engine ()\n2020-03-30 20:47:02,768 INFO sqlalchemy.engine.base.Engine PRAGMA main.index_list(\"Total_table\")\n2020-03-30 20:47:02,769 INFO sqlalchemy.engine.base.Engine ()\n2020-03-30 20:47:02,769 INFO sqlalchemy.engine.base.Engine PRAGMA temp.index_list(\"Total_table\")\n2020-03-30 20:47:02,770 INFO sqlalchemy.engine.base.Engine ()\n2020-03-30 20:47:02,771 INFO sqlalchemy.engine.base.Engine SELECT sql FROM  (SELECT * FROM sqlite_master UNION ALL   SELECT * FROM sqlite_temp_master) WHERE name = 'Total_table' AND type = 'table'\n2020-03-30 20:47:02,771 INFO sqlalchemy.engine.base.Engine ()\n2020-03-30 20:47:02,772 INFO sqlalchemy.engine.base.Engine \nDROP TABLE \"Total_table\"\n2020-03-30 20:47:02,773 INFO sqlalchemy.engine.base.Engine ()\n2020-03-30 20:47:02,778 INFO sqlalchemy.engine.base.Engine COMMIT\n2020-03-30 20:47:02,780 INFO sqlalchemy.engine.base.Engine \nCREATE TABLE \"Total_table\" (\n\t\"Date\" DATE, \n\t\"Country/Region\" VARCHAR, \n\t\"Confirmed cases\" BIGINT, \n\t\"Deaths\" BIGINT\n)\n\n\n2020-03-30 20:47:02,780 INFO sqlalchemy.engine.base.Engine ()\n2020-03-30 20:47:02,783 INFO sqlalchemy.engine.base.Engine COMMIT\n2020-03-30 20:47:02,784 INFO sqlalchemy.engine.base.Engine BEGIN (implicit)\n2020-03-30 20:47:02,785 INFO sqlalchemy.engine.base.Engine INSERT INTO \"Total_table\" (\"Date\", \"Country/Region\", \"Confirmed cases\", \"Deaths\") VALUES (?, ?, ?, ?)\n2020-03-30 20:47:02,786 INFO sqlalchemy.engine.base.Engine (('2020-01-22', 'Total', 549.0, 17.0), ('2020-01-23', 'Total', 641.0, 18.0), ('2020-01-24', 'Total', 920.0, 26.0), ('2020-01-25', 'Total', 1403.0, 42.0), ('2020-01-26', 'Total', 2070.0, 56.0), ('2020-01-27', 'Total', 2872.0, 82.0), ('2020-01-28', 'Total', 5503.0, 131.0), ('2020-01-29', 'Total', 6079.0, 133.0)  ... displaying 10 of 66 total bound parameter sets ...  ('2020-03-26', 'Total', 255448.0, 12846.0), ('2020-03-27', 'Total', 279384.0, 14150.0))\n2020-03-30 20:47:02,788 INFO sqlalchemy.engine.base.Engine COMMIT\n2020-03-30 20:47:02,791 INFO sqlalchemy.engine.base.Engine SELECT name FROM sqlite_master WHERE type='table' ORDER BY name\n2020-03-30 20:47:02,792 INFO sqlalchemy.engine.base.Engine ()\n2020-03-30 20:47:02,793 INFO sqlalchemy.engine.base.Engine PRAGMA main.table_info(\"Event_table\")\n2020-03-30 20:47:02,794 INFO sqlalchemy.engine.base.Engine ()\n2020-03-30 20:47:02,794 INFO sqlalchemy.engine.base.Engine PRAGMA main.table_info(\"Event_table\")\n2020-03-30 20:47:02,795 INFO sqlalchemy.engine.base.Engine ()\n2020-03-30 20:47:02,796 INFO sqlalchemy.engine.base.Engine SELECT name FROM sqlite_master WHERE type='table' ORDER BY name\n2020-03-30 20:47:02,796 INFO sqlalchemy.engine.base.Engine ()\n2020-03-30 20:47:02,798 INFO sqlalchemy.engine.base.Engine PRAGMA main.table_info(\"Event_table\")\n2020-03-30 20:47:02,798 INFO sqlalchemy.engine.base.Engine ()\n2020-03-30 20:47:02,799 INFO sqlalchemy.engine.base.Engine SELECT sql FROM  (SELECT * FROM sqlite_master UNION ALL   SELECT * FROM sqlite_temp_master) WHERE name = 'Event_table' AND type = 'table'\n2020-03-30 20:47:02,800 INFO sqlalchemy.engine.base.Engine ()\n2020-03-30 20:47:02,801 INFO sqlalchemy.engine.base.Engine PRAGMA main.foreign_key_list(\"Event_table\")\n2020-03-30 20:47:02,801 INFO sqlalchemy.engine.base.Engine ()\n2020-03-30 20:47:02,802 INFO sqlalchemy.engine.base.Engine PRAGMA temp.foreign_key_list(\"Event_table\")\n2020-03-30 20:47:02,802 INFO sqlalchemy.engine.base.Engine ()\n2020-03-30 20:47:02,803 INFO sqlalchemy.engine.base.Engine SELECT sql FROM  (SELECT * FROM sqlite_master UNION ALL   SELECT * FROM sqlite_temp_master) WHERE name = 'Event_table' AND type = 'table'\n2020-03-30 20:47:02,803 INFO sqlalchemy.engine.base.Engine ()\n2020-03-30 20:47:02,804 INFO sqlalchemy.engine.base.Engine PRAGMA main.index_list(\"Event_table\")\n2020-03-30 20:47:02,805 INFO sqlalchemy.engine.base.Engine ()\n2020-03-30 20:47:02,806 INFO sqlalchemy.engine.base.Engine PRAGMA temp.index_list(\"Event_table\")\n2020-03-30 20:47:02,806 INFO sqlalchemy.engine.base.Engine ()\n2020-03-30 20:47:02,807 INFO sqlalchemy.engine.base.Engine PRAGMA main.index_list(\"Event_table\")\n2020-03-30 20:47:02,807 INFO sqlalchemy.engine.base.Engine ()\n2020-03-30 20:47:02,808 INFO sqlalchemy.engine.base.Engine PRAGMA temp.index_list(\"Event_table\")\n2020-03-30 20:47:02,808 INFO sqlalchemy.engine.base.Engine ()\n2020-03-30 20:47:02,809 INFO sqlalchemy.engine.base.Engine SELECT sql FROM  (SELECT * FROM sqlite_master UNION ALL   SELECT * FROM sqlite_temp_master) WHERE name = 'Event_table' AND type = 'table'\n2020-03-30 20:47:02,810 INFO sqlalchemy.engine.base.Engine ()\n2020-03-30 20:47:02,811 INFO sqlalchemy.engine.base.Engine \nDROP TABLE \"Event_table\"\n2020-03-30 20:47:02,811 INFO sqlalchemy.engine.base.Engine ()\n2020-03-30 20:47:02,827 INFO sqlalchemy.engine.base.Engine COMMIT\n2020-03-30 20:47:02,828 INFO sqlalchemy.engine.base.Engine \nCREATE TABLE \"Event_table\" (\n\t\"Date\" DATE, \n\t\"Major Event\" TEXT\n)\n\n\n2020-03-30 20:47:02,829 INFO sqlalchemy.engine.base.Engine ()\n2020-03-30 20:47:02,832 INFO sqlalchemy.engine.base.Engine COMMIT\n2020-03-30 20:47:02,833 INFO sqlalchemy.engine.base.Engine BEGIN (implicit)\n2020-03-30 20:47:02,834 INFO sqlalchemy.engine.base.Engine INSERT INTO \"Event_table\" (\"Date\", \"Major Event\") VALUES (?, ?)\n2020-03-30 20:47:02,834 INFO sqlalchemy.engine.base.Engine (('2019-12-31', 'December 31, 2019 -Cases of pneumonia detected in Wuhan, China,are first reported to the WHO.During this reported period, the virus is unknown. The casesoccur between December 12 and December 29,according to Wuhan Municipal Health.'), ('2020-01-01', 'January 1, 2020 -Chinese health authorities close theHuanan Seafood Wholesale Marketafter it is discovered that wild animals sold there may be the source of the virus.'), ('2020-01-05', 'January 5, 2020 -China announces that the unknown pneumonia cases in Wuhan are not SARS or MERS. In astatement,the Wuhan Municipal Health Commission says a retrospective probe into the outbreak has been initiated.'), ('2020-01-07', 'January 7, 2020 -Chinese authorities confirm that they have identified the virus as a novel coronavirus, initially named2019-nCoVby the WHO.'), ('2020-01-11', 'January 11, 2020 -The Wuhan Municipal Health Commission announces the first death caused by the coronavirus. A 61-year-old man, exposed to the virus at the seafood market, died on January 9 after respiratory failure caused by severe pneumonia.'), ('2020-01-13', 'January 13, 2020 -Thai authoritiesreport a case of infection caused by the coronavirus.The infected individual is a Chinese national who had arrived from Wuhan.'), ('2020-01-16', 'January 16, 2020 -Japanese authorities confirm that aJapanese man who traveled to Wuhan is infected with the virus.'), ('2020-01-17', 'January 17, 2020 -Chinese health officials confirm that a second person has died in China. The United States responds to the outbreak by implementing screenings for symptoms atairports in San Francisco, New York and Los Angeles.')  ... displaying 10 of 45 total bound parameter sets ...  ('2020-03-24', \"March 24, 2020 -Japan's Prime Minister Shinzo Abeand International Olympic Committee (IOC) president Thomas Bachagree to postponetheOlympicsuntil 2021 amid the outbreak.\"), ('2020-03-25', 'March 25, 2020 -The White House and Senate leaders reach an agreement on a$2 trillion stimulus dealto offset the economic damage of coronavirus, producing one of the most expensive and far-reaching measures in the history of Congress.'))\n2020-03-30 20:47:02,836 INFO sqlalchemy.engine.base.Engine COMMIT\n2020-03-30 20:47:02,839 INFO sqlalchemy.engine.base.Engine SELECT name FROM sqlite_master WHERE type='table' ORDER BY name\n2020-03-30 20:47:02,840 INFO sqlalchemy.engine.base.Engine ()\n"
    }
   ],
   "source": [
    "# load data frames into sqlite\n",
    "US_df.to_sql('US_data', conn,index = False, dtype =table_type_country,if_exists='replace')\n",
    "It_df.to_sql('Italy_data', conn,index = False, dtype =table_type_country,if_exists='replace')\n",
    "CN_df.to_sql('China_data', conn,index = False, dtype =table_type_country,if_exists='replace')\n",
    "KR_df.to_sql('Korea_data', conn,index = False, dtype =table_type_country,if_exists='replace')\n",
    "tot_df.to_sql('Total_table', conn,index = False, dtype =table_type_tot,if_exists='replace')\n",
    "event_df.to_sql('Event_table', conn,index = False, dtype =table_type_tot,if_exists='replace')\n",
    "\n",
    ""
   ]
  },
  {
   "cell_type": "code",
   "execution_count": 24,
   "metadata": {},
   "outputs": [
    {
     "output_type": "stream",
     "name": "stdout",
     "text": "2020-03-30 20:47:11,269 INFO sqlalchemy.engine.base.Engine select * from Event_table\n2020-03-30 20:47:11,270 INFO sqlalchemy.engine.base.Engine ()\n"
    },
    {
     "output_type": "execute_result",
     "data": {
      "text/plain": "[('2019-12-31', 'December 31, 2019 -Cases of pneumonia detected in Wuhan, China,are first reported to the WHO.During this reported period, the virus is unknown. The casesoccur between December 12 and December 29,according to Wuhan Municipal Health.'),\n ('2020-01-01', 'January 1, 2020 -Chinese health authorities close theHuanan Seafood Wholesale Marketafter it is discovered that wild animals sold there may be the source of the virus.'),\n ('2020-01-05', 'January 5, 2020 -China announces that the unknown pneumonia cases in Wuhan are not SARS or MERS. In astatement,the Wuhan Municipal Health Commission says a retrospective probe into the outbreak has been initiated.'),\n ('2020-01-07', 'January 7, 2020 -Chinese authorities confirm that they have identified the virus as a novel coronavirus, initially named2019-nCoVby the WHO.'),\n ('2020-01-11', 'January 11, 2020 -The Wuhan Municipal Health Commission announces the first death caused by the coronavirus. A 61-year-old man, exposed to the virus at the seafood market, died on January 9 after respiratory failure caused by severe pneumonia.'),\n ('2020-01-13', 'January 13, 2020 -Thai authoritiesreport a case of infection caused by the coronavirus.The infected individual is a Chinese national who had arrived from Wuhan.'),\n ('2020-01-16', 'January 16, 2020 -Japanese authorities confirm that aJapanese man who traveled to Wuhan is infected with the virus.'),\n ('2020-01-17', 'January 17, 2020 -Chinese health officials confirm that a second person has died in China. The United States responds to the outbreak by implementing screenings for symptoms atairports in San Francisco, New York and Los Angeles.'),\n ('2020-01-20', 'January 20, 2020 -The National Institutes of Health announces that it is working on a vaccine against the coronavirus.\"The NIH is in the process of t ... (7 characters truncated) ... he first steps towards the development of a vaccine,\" says Dr. Anthony Fauci, director of the National Institutes of Allergy and Infectious Diseases.'),\n ('2020-01-21', 'January 21, 2020 -Officials in Washington state confirm the first case on US soil.'),\n ('2020-01-22', 'January 22, 2020 -Wuhan says it will \"temporarily\" close its airport and railway stations for departing passengers following news that the death toll from the Wuhan Coronavirus has risen to 17. Chinese authorities confirm at least 547 cases in the mainland.'),\n ('2020-01-23', 'January 23, 2020 -The Beijing Culture and Tourism Bureau cancels all large-scaleLunar New Yearcelebrations in an effort to contain the growing spread ... (76 characters truncated) ... l lockdown of transport in and out of Wuhan. Authorities in the nearby cities of Huanggang and Ezhou Huanggang announce a series of similar measures.'),\n ('2020-01-26', 'January 26, 2020 -The China Association of Travel Services reports that all tours, including international ones, will be suspended.'),\n ('2020-01-28', 'January 28, 2020 -Chinese President Xi Jinpingmeets with WHO Director General Tedros Adhanom in Beijing.At the meeting, Xi and the WHO agree to send a team of international experts, including US Centers for Disease Control and Prevention staff, to China to investigate the coronavirus outbreak.'),\n ('2020-01-29', 'January 29, 2020 -The White House announces the formation of a newtask forcethat will help monitor and contain the spread of the virus, and ensure Americans have accurate and up-to-date health and travel information, it says.'),\n ('2020-01-30', 'January 30, 2020 -The United States reports its first confirmed case of person-to-person transmission of the Wuhan coronavirus.On the same day, the WHO determines that the outbreak constitutes a Public Health Emergency of International Concern (PHEIC).'),\n ('2020-01-31', 'January 31, 2020 -TheDonald Trumpadministration announces it willdeny entry to foreign nationalswho have traveled in China in the last 14 days.'),\n ('2020-02-02', 'February 2, 2020 -A man in the Philippines dies from the Wuhan coronavirus --the first time a death has been reported outside mainland China since the outbreak began.'),\n ('2020-02-03', \"February 3, 2020 -China's Foreign Ministry accuses the US government of inappropriately reacting to the outbreak and spreading fear by enforcing travel restrictions.\"),\n ('2020-02-04', 'February 4, 2020 -The Japanese Health Ministry announces that ten people aboard the Diamond Princess cruise ship moored in Yokohama Bay are confirmed to have the coronavirus.The ship, which is carrying more than 3,700 people, is placed under quarantine scheduled to end on February 19.'),\n ('2020-02-07', 'February 7, 2020 -Li Wenliang,a Wuhan doctorwho wastargeted by policefor trying to sound the alarm on a \"SARS-like\" virus in December, dies of the co ... (91 characters truncated) ...  an apology,\" and \"We want freedom of speech,\"trend on China\\'s Twitter-like platform, Weibo, before disappearing from the heavily censored platform.'),\n ('2020-02-08', 'February 8, 2020 -The US Embassy in Beijing confirms that a60-year-old US national died in Wuhan on February 6, marking the first confirmed death of a foreigner.'),\n ('2020-02-10', 'February 10, 2020 -The Anthem of the Seas, a Royal Caribbean cruise ship, sets sail from Bayonne, New Jersey, after a coronavirus scarehad kept it docked and its passengers waiting for days.'),\n ('2020-02-11', 'February 11, 2020 -The WHO names the coronavirus Covid-19.'),\n ('2020-02-13', \"February 13, 2020 -China's state-run Xinhua News Agency announces thatShanghai mayor Ying Yong will be replacing Jiang Chaoliang amid the outbreak.Wuhan Communist Party chief Ma Guoqiang has also been replaced by Wang Zhonglin, party chief of Jinan city in Shandong province, according to Xinhua.\"),\n ('2020-02-14', \"February 14, 2020 -Egypt announces its first case of Wuhan coronavirus on Friday,according to a joint statement by Egypt's Ministry of Health and the WHO.The confirmed case marks the first in Africa since the virus was detected.\"),\n ('2020-02-15', 'February 15, 2020 -The official Communist Party journalQiushipublishes the transcript of a speech made on February 3 by Xi in which he \"issued requir ... (49 characters truncated) ... coronavirus\" on January 7,revealing Xi knew about and was directing the response to the virus on almost two weeks before he commented on it publicly.'),\n ('2020-02-18', 'February 18, 2020 -Xi says in a phone call with British Prime MinisterBoris Johnsonthat China\\'s measures to prevent and control the epidemic\"are achieving visible progress,\"according to state news Xinhua.'),\n ('2020-02-19', 'February 19, 2020 -Passengers who have tested negative for the novel coronavirus begin disembarking from the stricken Diamond Princess cruise ship,despite mounting evidence from infectious disease experts they could unknowingly be carrying the virus back into their communities.'),\n ('2020-02-21', 'February 21, 2020 -The CDC changes criteria for counting confirmed cases of novel coronavirus in the United States and begins tracking two separate and distinct groups:those repatriated by the US Department of State and those identified by the US public health network.'),\n ('2020-02-25', \"February 25, 2020 -In an effort to contain the largest outbreak in Europe, Italy's Lombardy region press officeissues a listof towns and villages that are in complete lockdown.Around 100,000 people are affected by the travel restrictions.\"),\n ('2020-02-26', \"February 26, 2020 -President TrumpplacesVice President Mike Pencein charge of the US government response to thenovel coronavirus,amid growing criticism of the White House's handling of the outbreak.\"),\n ('2020-02-29', 'February 29, 2020 -A state health official announces that a patient infected with the novel coronavirus in Washington state has died,marking the firs ... (37 characters truncated) ... d States.Washington Gov. Jay Insleedeclares a state of emergency, directing state agencies to use all resources necessary to respond to the outbreak.'),\n ('2020-03-01', 'March 1, 2020 -Florida Gov. Ron DeSantis declares a public health emergency in the state of Florida.Over the next several days, Kentucky, New York, Maryland, Utah and Oregon declare states of emergency.'),\n ('2020-03-03', \"March 3, 2020 -Officials announce that Iran will temporarily release 54,000 people from prisons and deploy hundreds of thousands of health workers as ... (47 characters truncated) ... ain the world's deadliest coronavirus outbreak outside China.It is also announced that 23 members of Iran's parliament tested positive for the virus.\"),\n ('2020-03-04', 'March 4, 2020 -The CDC formallyremoves earlier restrictions that limited coronavirus testing of the general public to people in the hospital,unless t ... (87 characters truncated) ... s should now \"use their judgment to determine if a patient has signs and symptoms compatible with COVID-19 and whether the patient should be tested.\"'),\n ('2020-03-08', 'March 8, 2020 -Italian Prime Minister Giuseppe Conte signs a decree placing travel restrictions on the entire Lombardy region and 14 other provinces,restricting the movements of more than 10 million people in the northern part of the country.'),\n ('2020-03-09', 'March 9, 2020 -Conte announces that the whole country of Italy is on lockdown.'),\n ('2020-03-11', \"March 11, 2020 -In an Oval Office address,Trump announces that he is restricting travel from Europe to the United States for 30 days in an attempt to ... (78 characters truncated) ... the Schengen Area, applies only to foreign nationals and not American citizens and permanent residents who'd be screened before entering the country.\"),\n ('2020-03-13', 'March 13, 2020 -Trump declares a national emergency to free up $50 billion in federal resources to combat coronavirus.'),\n ('2020-03-18', 'March 18, 2020 -Trump signs into law a coronavirus relief packagethat includes provisions for free testing for Covid-19 and paid emergency leave.'),\n ('2020-03-19', \"March 19, 2020 -At a news conference, officials from China's National Health Commission reportno new locally transmitted coronavirus cases for the first time since the pandemic began.\"),\n ('2020-03-23', 'March 23, 2020 -United NationsSecretary-General António Guterres calls for an immediate global ceasefire amid the pandemic tofight \"the common enemy.\"'),\n ('2020-03-24', \"March 24, 2020 -Japan's Prime Minister Shinzo Abeand International Olympic Committee (IOC) president Thomas Bachagree to postponetheOlympicsuntil 2021 amid the outbreak.\"),\n ('2020-03-25', 'March 25, 2020 -The White House and Senate leaders reach an agreement on a$2 trillion stimulus dealto offset the economic damage of coronavirus, producing one of the most expensive and far-reaching measures in the history of Congress.')]"
     },
     "metadata": {},
     "execution_count": 24
    }
   ],
   "source": [
    "engine.execute('select * from Event_table').fetchall()\n",
    ""
   ]
  },
  {
   "cell_type": "code",
   "execution_count": 54,
   "metadata": {},
   "outputs": [
    {
     "output_type": "execute_result",
     "data": {
      "text/plain": "2020-02-04    1\n2020-02-05    1\n2020-02-03    1\n2020-03-02    1\n2020-01-06    1\n             ..\n2020-01-14    1\n2019-12-30    1\n2020-02-21    1\n2020-01-17    1\n2020-03-26    1\nName: Date, Length: 66, dtype: int64"
     },
     "metadata": {},
     "execution_count": 54
    }
   ],
   "source": [
    "US_df[\"Date\"].value_counts()"
   ]
  },
  {
   "cell_type": "code",
   "execution_count": null,
   "metadata": {},
   "outputs": [],
   "source": []
  }
 ],
 "metadata": {
  "kernel_info": {
   "name": "python3"
  },
  "kernelspec": {
   "display_name": "Python 3",
   "language": "python",
   "name": "python3"
  },
  "language_info": {
   "codemirror_mode": {
    "name": "ipython",
    "version": 3
   },
   "file_extension": ".py",
   "mimetype": "text/x-python",
   "name": "python",
   "nbconvert_exporter": "python",
   "pygments_lexer": "ipython3",
   "version": "3.7.4-final"
  },
  "nteract": {
   "version": "0.12.3"
  },
  "varInspector": {
   "cols": {
    "lenName": 16,
    "lenType": 16,
    "lenVar": 40
   },
   "kernels_config": {
    "python": {
     "delete_cmd_postfix": "",
     "delete_cmd_prefix": "del ",
     "library": "var_list.py",
     "varRefreshCmd": "print(var_dic_list())"
    },
    "r": {
     "delete_cmd_postfix": ") ",
     "delete_cmd_prefix": "rm(",
     "library": "var_list.r",
     "varRefreshCmd": "cat(var_dic_list()) "
    }
   },
   "types_to_exclude": [
    "module",
    "function",
    "builtin_function_or_method",
    "instance",
    "_Feature"
   ],
   "window_display": false
  }
 },
 "nbformat": 4,
 "nbformat_minor": 2
}